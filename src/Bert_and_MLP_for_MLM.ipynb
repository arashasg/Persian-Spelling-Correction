{
  "nbformat": 4,
  "nbformat_minor": 0,
  "metadata": {
    "colab": {
      "name": "Bert and MLP for MLM.ipynb",
      "provenance": [],
      "collapsed_sections": []
    },
    "kernelspec": {
      "name": "python3",
      "display_name": "Python 3"
    },
    "language_info": {
      "name": "python"
    },
    "widgets": {
      "application/vnd.jupyter.widget-state+json": {
        "2facf22cc0af455c8019d4c29d5f6983": {
          "model_module": "@jupyter-widgets/controls",
          "model_name": "HBoxModel",
          "model_module_version": "1.5.0",
          "state": {
            "_dom_classes": [],
            "_model_module": "@jupyter-widgets/controls",
            "_model_module_version": "1.5.0",
            "_model_name": "HBoxModel",
            "_view_count": null,
            "_view_module": "@jupyter-widgets/controls",
            "_view_module_version": "1.5.0",
            "_view_name": "HBoxView",
            "box_style": "",
            "children": [
              "IPY_MODEL_a3b868dabfac4294a43868774448eb94",
              "IPY_MODEL_0e7c8652e26641cdb338502f225075a9",
              "IPY_MODEL_abc8e388dc2442aa907eadf862c3aac2"
            ],
            "layout": "IPY_MODEL_f9875c9e790647b697d6e68bac9257ab"
          }
        },
        "a3b868dabfac4294a43868774448eb94": {
          "model_module": "@jupyter-widgets/controls",
          "model_name": "HTMLModel",
          "model_module_version": "1.5.0",
          "state": {
            "_dom_classes": [],
            "_model_module": "@jupyter-widgets/controls",
            "_model_module_version": "1.5.0",
            "_model_name": "HTMLModel",
            "_view_count": null,
            "_view_module": "@jupyter-widgets/controls",
            "_view_module_version": "1.5.0",
            "_view_name": "HTMLView",
            "description": "",
            "description_tooltip": null,
            "layout": "IPY_MODEL_db19ad3f2f514b09abf3598c63e015d3",
            "placeholder": "​",
            "style": "IPY_MODEL_b27a45287ca14a76ab797e0de418a271",
            "value": "Downloading: 100%"
          }
        },
        "0e7c8652e26641cdb338502f225075a9": {
          "model_module": "@jupyter-widgets/controls",
          "model_name": "FloatProgressModel",
          "model_module_version": "1.5.0",
          "state": {
            "_dom_classes": [],
            "_model_module": "@jupyter-widgets/controls",
            "_model_module_version": "1.5.0",
            "_model_name": "FloatProgressModel",
            "_view_count": null,
            "_view_module": "@jupyter-widgets/controls",
            "_view_module_version": "1.5.0",
            "_view_name": "ProgressView",
            "bar_style": "success",
            "description": "",
            "description_tooltip": null,
            "layout": "IPY_MODEL_1955d0b22d6940e79a4efef537388330",
            "max": 434,
            "min": 0,
            "orientation": "horizontal",
            "style": "IPY_MODEL_e8e2a22f21bf47bc9e3490e0f43985fb",
            "value": 434
          }
        },
        "abc8e388dc2442aa907eadf862c3aac2": {
          "model_module": "@jupyter-widgets/controls",
          "model_name": "HTMLModel",
          "model_module_version": "1.5.0",
          "state": {
            "_dom_classes": [],
            "_model_module": "@jupyter-widgets/controls",
            "_model_module_version": "1.5.0",
            "_model_name": "HTMLModel",
            "_view_count": null,
            "_view_module": "@jupyter-widgets/controls",
            "_view_module_version": "1.5.0",
            "_view_name": "HTMLView",
            "description": "",
            "description_tooltip": null,
            "layout": "IPY_MODEL_1868fc8fdc5b4c1db416d123a274db08",
            "placeholder": "​",
            "style": "IPY_MODEL_92db78c19f1c41f38f97bea290286f76",
            "value": " 434/434 [00:00&lt;00:00, 7.34kB/s]"
          }
        },
        "f9875c9e790647b697d6e68bac9257ab": {
          "model_module": "@jupyter-widgets/base",
          "model_name": "LayoutModel",
          "model_module_version": "1.2.0",
          "state": {
            "_model_module": "@jupyter-widgets/base",
            "_model_module_version": "1.2.0",
            "_model_name": "LayoutModel",
            "_view_count": null,
            "_view_module": "@jupyter-widgets/base",
            "_view_module_version": "1.2.0",
            "_view_name": "LayoutView",
            "align_content": null,
            "align_items": null,
            "align_self": null,
            "border": null,
            "bottom": null,
            "display": null,
            "flex": null,
            "flex_flow": null,
            "grid_area": null,
            "grid_auto_columns": null,
            "grid_auto_flow": null,
            "grid_auto_rows": null,
            "grid_column": null,
            "grid_gap": null,
            "grid_row": null,
            "grid_template_areas": null,
            "grid_template_columns": null,
            "grid_template_rows": null,
            "height": null,
            "justify_content": null,
            "justify_items": null,
            "left": null,
            "margin": null,
            "max_height": null,
            "max_width": null,
            "min_height": null,
            "min_width": null,
            "object_fit": null,
            "object_position": null,
            "order": null,
            "overflow": null,
            "overflow_x": null,
            "overflow_y": null,
            "padding": null,
            "right": null,
            "top": null,
            "visibility": null,
            "width": null
          }
        },
        "db19ad3f2f514b09abf3598c63e015d3": {
          "model_module": "@jupyter-widgets/base",
          "model_name": "LayoutModel",
          "model_module_version": "1.2.0",
          "state": {
            "_model_module": "@jupyter-widgets/base",
            "_model_module_version": "1.2.0",
            "_model_name": "LayoutModel",
            "_view_count": null,
            "_view_module": "@jupyter-widgets/base",
            "_view_module_version": "1.2.0",
            "_view_name": "LayoutView",
            "align_content": null,
            "align_items": null,
            "align_self": null,
            "border": null,
            "bottom": null,
            "display": null,
            "flex": null,
            "flex_flow": null,
            "grid_area": null,
            "grid_auto_columns": null,
            "grid_auto_flow": null,
            "grid_auto_rows": null,
            "grid_column": null,
            "grid_gap": null,
            "grid_row": null,
            "grid_template_areas": null,
            "grid_template_columns": null,
            "grid_template_rows": null,
            "height": null,
            "justify_content": null,
            "justify_items": null,
            "left": null,
            "margin": null,
            "max_height": null,
            "max_width": null,
            "min_height": null,
            "min_width": null,
            "object_fit": null,
            "object_position": null,
            "order": null,
            "overflow": null,
            "overflow_x": null,
            "overflow_y": null,
            "padding": null,
            "right": null,
            "top": null,
            "visibility": null,
            "width": null
          }
        },
        "b27a45287ca14a76ab797e0de418a271": {
          "model_module": "@jupyter-widgets/controls",
          "model_name": "DescriptionStyleModel",
          "model_module_version": "1.5.0",
          "state": {
            "_model_module": "@jupyter-widgets/controls",
            "_model_module_version": "1.5.0",
            "_model_name": "DescriptionStyleModel",
            "_view_count": null,
            "_view_module": "@jupyter-widgets/base",
            "_view_module_version": "1.2.0",
            "_view_name": "StyleView",
            "description_width": ""
          }
        },
        "1955d0b22d6940e79a4efef537388330": {
          "model_module": "@jupyter-widgets/base",
          "model_name": "LayoutModel",
          "model_module_version": "1.2.0",
          "state": {
            "_model_module": "@jupyter-widgets/base",
            "_model_module_version": "1.2.0",
            "_model_name": "LayoutModel",
            "_view_count": null,
            "_view_module": "@jupyter-widgets/base",
            "_view_module_version": "1.2.0",
            "_view_name": "LayoutView",
            "align_content": null,
            "align_items": null,
            "align_self": null,
            "border": null,
            "bottom": null,
            "display": null,
            "flex": null,
            "flex_flow": null,
            "grid_area": null,
            "grid_auto_columns": null,
            "grid_auto_flow": null,
            "grid_auto_rows": null,
            "grid_column": null,
            "grid_gap": null,
            "grid_row": null,
            "grid_template_areas": null,
            "grid_template_columns": null,
            "grid_template_rows": null,
            "height": null,
            "justify_content": null,
            "justify_items": null,
            "left": null,
            "margin": null,
            "max_height": null,
            "max_width": null,
            "min_height": null,
            "min_width": null,
            "object_fit": null,
            "object_position": null,
            "order": null,
            "overflow": null,
            "overflow_x": null,
            "overflow_y": null,
            "padding": null,
            "right": null,
            "top": null,
            "visibility": null,
            "width": null
          }
        },
        "e8e2a22f21bf47bc9e3490e0f43985fb": {
          "model_module": "@jupyter-widgets/controls",
          "model_name": "ProgressStyleModel",
          "model_module_version": "1.5.0",
          "state": {
            "_model_module": "@jupyter-widgets/controls",
            "_model_module_version": "1.5.0",
            "_model_name": "ProgressStyleModel",
            "_view_count": null,
            "_view_module": "@jupyter-widgets/base",
            "_view_module_version": "1.2.0",
            "_view_name": "StyleView",
            "bar_color": null,
            "description_width": ""
          }
        },
        "1868fc8fdc5b4c1db416d123a274db08": {
          "model_module": "@jupyter-widgets/base",
          "model_name": "LayoutModel",
          "model_module_version": "1.2.0",
          "state": {
            "_model_module": "@jupyter-widgets/base",
            "_model_module_version": "1.2.0",
            "_model_name": "LayoutModel",
            "_view_count": null,
            "_view_module": "@jupyter-widgets/base",
            "_view_module_version": "1.2.0",
            "_view_name": "LayoutView",
            "align_content": null,
            "align_items": null,
            "align_self": null,
            "border": null,
            "bottom": null,
            "display": null,
            "flex": null,
            "flex_flow": null,
            "grid_area": null,
            "grid_auto_columns": null,
            "grid_auto_flow": null,
            "grid_auto_rows": null,
            "grid_column": null,
            "grid_gap": null,
            "grid_row": null,
            "grid_template_areas": null,
            "grid_template_columns": null,
            "grid_template_rows": null,
            "height": null,
            "justify_content": null,
            "justify_items": null,
            "left": null,
            "margin": null,
            "max_height": null,
            "max_width": null,
            "min_height": null,
            "min_width": null,
            "object_fit": null,
            "object_position": null,
            "order": null,
            "overflow": null,
            "overflow_x": null,
            "overflow_y": null,
            "padding": null,
            "right": null,
            "top": null,
            "visibility": null,
            "width": null
          }
        },
        "92db78c19f1c41f38f97bea290286f76": {
          "model_module": "@jupyter-widgets/controls",
          "model_name": "DescriptionStyleModel",
          "model_module_version": "1.5.0",
          "state": {
            "_model_module": "@jupyter-widgets/controls",
            "_model_module_version": "1.5.0",
            "_model_name": "DescriptionStyleModel",
            "_view_count": null,
            "_view_module": "@jupyter-widgets/base",
            "_view_module_version": "1.2.0",
            "_view_name": "StyleView",
            "description_width": ""
          }
        },
        "bb50a813906f4b99870e65b7aa3e2f96": {
          "model_module": "@jupyter-widgets/controls",
          "model_name": "HBoxModel",
          "model_module_version": "1.5.0",
          "state": {
            "_dom_classes": [],
            "_model_module": "@jupyter-widgets/controls",
            "_model_module_version": "1.5.0",
            "_model_name": "HBoxModel",
            "_view_count": null,
            "_view_module": "@jupyter-widgets/controls",
            "_view_module_version": "1.5.0",
            "_view_name": "HBoxView",
            "box_style": "",
            "children": [
              "IPY_MODEL_4766b2758789431f8bd60dece3ff0065",
              "IPY_MODEL_d1844c317d0b4f6ca0b7e6335ead9a5b",
              "IPY_MODEL_c10ecb16a2a44ca98c4d8fb68c420c32"
            ],
            "layout": "IPY_MODEL_6d2f9435794d486799650db4fb862c2a"
          }
        },
        "4766b2758789431f8bd60dece3ff0065": {
          "model_module": "@jupyter-widgets/controls",
          "model_name": "HTMLModel",
          "model_module_version": "1.5.0",
          "state": {
            "_dom_classes": [],
            "_model_module": "@jupyter-widgets/controls",
            "_model_module_version": "1.5.0",
            "_model_name": "HTMLModel",
            "_view_count": null,
            "_view_module": "@jupyter-widgets/controls",
            "_view_module_version": "1.5.0",
            "_view_name": "HTMLView",
            "description": "",
            "description_tooltip": null,
            "layout": "IPY_MODEL_88e1870c6ca44154b41c58e3e37a79e3",
            "placeholder": "​",
            "style": "IPY_MODEL_67236d839b8e4c87b8b3d482cf969dd0",
            "value": "Downloading: 100%"
          }
        },
        "d1844c317d0b4f6ca0b7e6335ead9a5b": {
          "model_module": "@jupyter-widgets/controls",
          "model_name": "FloatProgressModel",
          "model_module_version": "1.5.0",
          "state": {
            "_dom_classes": [],
            "_model_module": "@jupyter-widgets/controls",
            "_model_module_version": "1.5.0",
            "_model_name": "FloatProgressModel",
            "_view_count": null,
            "_view_module": "@jupyter-widgets/controls",
            "_view_module_version": "1.5.0",
            "_view_name": "ProgressView",
            "bar_style": "success",
            "description": "",
            "description_tooltip": null,
            "layout": "IPY_MODEL_be481c307b3745a5ac4b94f1e9719d0a",
            "max": 1215509,
            "min": 0,
            "orientation": "horizontal",
            "style": "IPY_MODEL_2a863b4263ff41ae9ed243e02c0fbe1a",
            "value": 1215509
          }
        },
        "c10ecb16a2a44ca98c4d8fb68c420c32": {
          "model_module": "@jupyter-widgets/controls",
          "model_name": "HTMLModel",
          "model_module_version": "1.5.0",
          "state": {
            "_dom_classes": [],
            "_model_module": "@jupyter-widgets/controls",
            "_model_module_version": "1.5.0",
            "_model_name": "HTMLModel",
            "_view_count": null,
            "_view_module": "@jupyter-widgets/controls",
            "_view_module_version": "1.5.0",
            "_view_name": "HTMLView",
            "description": "",
            "description_tooltip": null,
            "layout": "IPY_MODEL_fc1fa7c658704dd0a2eab69600836921",
            "placeholder": "​",
            "style": "IPY_MODEL_04433b32661a48198cef5af1feceb643",
            "value": " 1.16M/1.16M [00:00&lt;00:00, 1.76MB/s]"
          }
        },
        "6d2f9435794d486799650db4fb862c2a": {
          "model_module": "@jupyter-widgets/base",
          "model_name": "LayoutModel",
          "model_module_version": "1.2.0",
          "state": {
            "_model_module": "@jupyter-widgets/base",
            "_model_module_version": "1.2.0",
            "_model_name": "LayoutModel",
            "_view_count": null,
            "_view_module": "@jupyter-widgets/base",
            "_view_module_version": "1.2.0",
            "_view_name": "LayoutView",
            "align_content": null,
            "align_items": null,
            "align_self": null,
            "border": null,
            "bottom": null,
            "display": null,
            "flex": null,
            "flex_flow": null,
            "grid_area": null,
            "grid_auto_columns": null,
            "grid_auto_flow": null,
            "grid_auto_rows": null,
            "grid_column": null,
            "grid_gap": null,
            "grid_row": null,
            "grid_template_areas": null,
            "grid_template_columns": null,
            "grid_template_rows": null,
            "height": null,
            "justify_content": null,
            "justify_items": null,
            "left": null,
            "margin": null,
            "max_height": null,
            "max_width": null,
            "min_height": null,
            "min_width": null,
            "object_fit": null,
            "object_position": null,
            "order": null,
            "overflow": null,
            "overflow_x": null,
            "overflow_y": null,
            "padding": null,
            "right": null,
            "top": null,
            "visibility": null,
            "width": null
          }
        },
        "88e1870c6ca44154b41c58e3e37a79e3": {
          "model_module": "@jupyter-widgets/base",
          "model_name": "LayoutModel",
          "model_module_version": "1.2.0",
          "state": {
            "_model_module": "@jupyter-widgets/base",
            "_model_module_version": "1.2.0",
            "_model_name": "LayoutModel",
            "_view_count": null,
            "_view_module": "@jupyter-widgets/base",
            "_view_module_version": "1.2.0",
            "_view_name": "LayoutView",
            "align_content": null,
            "align_items": null,
            "align_self": null,
            "border": null,
            "bottom": null,
            "display": null,
            "flex": null,
            "flex_flow": null,
            "grid_area": null,
            "grid_auto_columns": null,
            "grid_auto_flow": null,
            "grid_auto_rows": null,
            "grid_column": null,
            "grid_gap": null,
            "grid_row": null,
            "grid_template_areas": null,
            "grid_template_columns": null,
            "grid_template_rows": null,
            "height": null,
            "justify_content": null,
            "justify_items": null,
            "left": null,
            "margin": null,
            "max_height": null,
            "max_width": null,
            "min_height": null,
            "min_width": null,
            "object_fit": null,
            "object_position": null,
            "order": null,
            "overflow": null,
            "overflow_x": null,
            "overflow_y": null,
            "padding": null,
            "right": null,
            "top": null,
            "visibility": null,
            "width": null
          }
        },
        "67236d839b8e4c87b8b3d482cf969dd0": {
          "model_module": "@jupyter-widgets/controls",
          "model_name": "DescriptionStyleModel",
          "model_module_version": "1.5.0",
          "state": {
            "_model_module": "@jupyter-widgets/controls",
            "_model_module_version": "1.5.0",
            "_model_name": "DescriptionStyleModel",
            "_view_count": null,
            "_view_module": "@jupyter-widgets/base",
            "_view_module_version": "1.2.0",
            "_view_name": "StyleView",
            "description_width": ""
          }
        },
        "be481c307b3745a5ac4b94f1e9719d0a": {
          "model_module": "@jupyter-widgets/base",
          "model_name": "LayoutModel",
          "model_module_version": "1.2.0",
          "state": {
            "_model_module": "@jupyter-widgets/base",
            "_model_module_version": "1.2.0",
            "_model_name": "LayoutModel",
            "_view_count": null,
            "_view_module": "@jupyter-widgets/base",
            "_view_module_version": "1.2.0",
            "_view_name": "LayoutView",
            "align_content": null,
            "align_items": null,
            "align_self": null,
            "border": null,
            "bottom": null,
            "display": null,
            "flex": null,
            "flex_flow": null,
            "grid_area": null,
            "grid_auto_columns": null,
            "grid_auto_flow": null,
            "grid_auto_rows": null,
            "grid_column": null,
            "grid_gap": null,
            "grid_row": null,
            "grid_template_areas": null,
            "grid_template_columns": null,
            "grid_template_rows": null,
            "height": null,
            "justify_content": null,
            "justify_items": null,
            "left": null,
            "margin": null,
            "max_height": null,
            "max_width": null,
            "min_height": null,
            "min_width": null,
            "object_fit": null,
            "object_position": null,
            "order": null,
            "overflow": null,
            "overflow_x": null,
            "overflow_y": null,
            "padding": null,
            "right": null,
            "top": null,
            "visibility": null,
            "width": null
          }
        },
        "2a863b4263ff41ae9ed243e02c0fbe1a": {
          "model_module": "@jupyter-widgets/controls",
          "model_name": "ProgressStyleModel",
          "model_module_version": "1.5.0",
          "state": {
            "_model_module": "@jupyter-widgets/controls",
            "_model_module_version": "1.5.0",
            "_model_name": "ProgressStyleModel",
            "_view_count": null,
            "_view_module": "@jupyter-widgets/base",
            "_view_module_version": "1.2.0",
            "_view_name": "StyleView",
            "bar_color": null,
            "description_width": ""
          }
        },
        "fc1fa7c658704dd0a2eab69600836921": {
          "model_module": "@jupyter-widgets/base",
          "model_name": "LayoutModel",
          "model_module_version": "1.2.0",
          "state": {
            "_model_module": "@jupyter-widgets/base",
            "_model_module_version": "1.2.0",
            "_model_name": "LayoutModel",
            "_view_count": null,
            "_view_module": "@jupyter-widgets/base",
            "_view_module_version": "1.2.0",
            "_view_name": "LayoutView",
            "align_content": null,
            "align_items": null,
            "align_self": null,
            "border": null,
            "bottom": null,
            "display": null,
            "flex": null,
            "flex_flow": null,
            "grid_area": null,
            "grid_auto_columns": null,
            "grid_auto_flow": null,
            "grid_auto_rows": null,
            "grid_column": null,
            "grid_gap": null,
            "grid_row": null,
            "grid_template_areas": null,
            "grid_template_columns": null,
            "grid_template_rows": null,
            "height": null,
            "justify_content": null,
            "justify_items": null,
            "left": null,
            "margin": null,
            "max_height": null,
            "max_width": null,
            "min_height": null,
            "min_width": null,
            "object_fit": null,
            "object_position": null,
            "order": null,
            "overflow": null,
            "overflow_x": null,
            "overflow_y": null,
            "padding": null,
            "right": null,
            "top": null,
            "visibility": null,
            "width": null
          }
        },
        "04433b32661a48198cef5af1feceb643": {
          "model_module": "@jupyter-widgets/controls",
          "model_name": "DescriptionStyleModel",
          "model_module_version": "1.5.0",
          "state": {
            "_model_module": "@jupyter-widgets/controls",
            "_model_module_version": "1.5.0",
            "_model_name": "DescriptionStyleModel",
            "_view_count": null,
            "_view_module": "@jupyter-widgets/base",
            "_view_module_version": "1.2.0",
            "_view_name": "StyleView",
            "description_width": ""
          }
        },
        "ecbfd6fa0d8d437c9595efe11b7f0410": {
          "model_module": "@jupyter-widgets/controls",
          "model_name": "HBoxModel",
          "model_module_version": "1.5.0",
          "state": {
            "_dom_classes": [],
            "_model_module": "@jupyter-widgets/controls",
            "_model_module_version": "1.5.0",
            "_model_name": "HBoxModel",
            "_view_count": null,
            "_view_module": "@jupyter-widgets/controls",
            "_view_module_version": "1.5.0",
            "_view_name": "HBoxView",
            "box_style": "",
            "children": [
              "IPY_MODEL_2a567f6886dc425989a48a314a4683d0",
              "IPY_MODEL_d7fa8a533366494ca03aac5f06b8dbcb",
              "IPY_MODEL_d48a1817717c455c9887a6613a6578ee"
            ],
            "layout": "IPY_MODEL_6f66c6aef87c4f2792a10cca790604a3"
          }
        },
        "2a567f6886dc425989a48a314a4683d0": {
          "model_module": "@jupyter-widgets/controls",
          "model_name": "HTMLModel",
          "model_module_version": "1.5.0",
          "state": {
            "_dom_classes": [],
            "_model_module": "@jupyter-widgets/controls",
            "_model_module_version": "1.5.0",
            "_model_name": "HTMLModel",
            "_view_count": null,
            "_view_module": "@jupyter-widgets/controls",
            "_view_module_version": "1.5.0",
            "_view_name": "HTMLView",
            "description": "",
            "description_tooltip": null,
            "layout": "IPY_MODEL_f1bc02b511074361a1afd37d9a162f9f",
            "placeholder": "​",
            "style": "IPY_MODEL_20aac94e600a4447b965725ba0f13bc2",
            "value": "Downloading: 100%"
          }
        },
        "d7fa8a533366494ca03aac5f06b8dbcb": {
          "model_module": "@jupyter-widgets/controls",
          "model_name": "FloatProgressModel",
          "model_module_version": "1.5.0",
          "state": {
            "_dom_classes": [],
            "_model_module": "@jupyter-widgets/controls",
            "_model_module_version": "1.5.0",
            "_model_name": "FloatProgressModel",
            "_view_count": null,
            "_view_module": "@jupyter-widgets/controls",
            "_view_module_version": "1.5.0",
            "_view_name": "ProgressView",
            "bar_style": "success",
            "description": "",
            "description_tooltip": null,
            "layout": "IPY_MODEL_63a178477a0f4b0c8153ac7491282513",
            "max": 963211760,
            "min": 0,
            "orientation": "horizontal",
            "style": "IPY_MODEL_ffb7b700e03d479e8fb3a39f344d8ca9",
            "value": 963211760
          }
        },
        "d48a1817717c455c9887a6613a6578ee": {
          "model_module": "@jupyter-widgets/controls",
          "model_name": "HTMLModel",
          "model_module_version": "1.5.0",
          "state": {
            "_dom_classes": [],
            "_model_module": "@jupyter-widgets/controls",
            "_model_module_version": "1.5.0",
            "_model_name": "HTMLModel",
            "_view_count": null,
            "_view_module": "@jupyter-widgets/controls",
            "_view_module_version": "1.5.0",
            "_view_name": "HTMLView",
            "description": "",
            "description_tooltip": null,
            "layout": "IPY_MODEL_bce901181d51485eb9a77a26371cb5c5",
            "placeholder": "​",
            "style": "IPY_MODEL_3545c95c49374a5f98fa32d2f90ab9c7",
            "value": " 919M/919M [00:38&lt;00:00, 40.5MB/s]"
          }
        },
        "6f66c6aef87c4f2792a10cca790604a3": {
          "model_module": "@jupyter-widgets/base",
          "model_name": "LayoutModel",
          "model_module_version": "1.2.0",
          "state": {
            "_model_module": "@jupyter-widgets/base",
            "_model_module_version": "1.2.0",
            "_model_name": "LayoutModel",
            "_view_count": null,
            "_view_module": "@jupyter-widgets/base",
            "_view_module_version": "1.2.0",
            "_view_name": "LayoutView",
            "align_content": null,
            "align_items": null,
            "align_self": null,
            "border": null,
            "bottom": null,
            "display": null,
            "flex": null,
            "flex_flow": null,
            "grid_area": null,
            "grid_auto_columns": null,
            "grid_auto_flow": null,
            "grid_auto_rows": null,
            "grid_column": null,
            "grid_gap": null,
            "grid_row": null,
            "grid_template_areas": null,
            "grid_template_columns": null,
            "grid_template_rows": null,
            "height": null,
            "justify_content": null,
            "justify_items": null,
            "left": null,
            "margin": null,
            "max_height": null,
            "max_width": null,
            "min_height": null,
            "min_width": null,
            "object_fit": null,
            "object_position": null,
            "order": null,
            "overflow": null,
            "overflow_x": null,
            "overflow_y": null,
            "padding": null,
            "right": null,
            "top": null,
            "visibility": null,
            "width": null
          }
        },
        "f1bc02b511074361a1afd37d9a162f9f": {
          "model_module": "@jupyter-widgets/base",
          "model_name": "LayoutModel",
          "model_module_version": "1.2.0",
          "state": {
            "_model_module": "@jupyter-widgets/base",
            "_model_module_version": "1.2.0",
            "_model_name": "LayoutModel",
            "_view_count": null,
            "_view_module": "@jupyter-widgets/base",
            "_view_module_version": "1.2.0",
            "_view_name": "LayoutView",
            "align_content": null,
            "align_items": null,
            "align_self": null,
            "border": null,
            "bottom": null,
            "display": null,
            "flex": null,
            "flex_flow": null,
            "grid_area": null,
            "grid_auto_columns": null,
            "grid_auto_flow": null,
            "grid_auto_rows": null,
            "grid_column": null,
            "grid_gap": null,
            "grid_row": null,
            "grid_template_areas": null,
            "grid_template_columns": null,
            "grid_template_rows": null,
            "height": null,
            "justify_content": null,
            "justify_items": null,
            "left": null,
            "margin": null,
            "max_height": null,
            "max_width": null,
            "min_height": null,
            "min_width": null,
            "object_fit": null,
            "object_position": null,
            "order": null,
            "overflow": null,
            "overflow_x": null,
            "overflow_y": null,
            "padding": null,
            "right": null,
            "top": null,
            "visibility": null,
            "width": null
          }
        },
        "20aac94e600a4447b965725ba0f13bc2": {
          "model_module": "@jupyter-widgets/controls",
          "model_name": "DescriptionStyleModel",
          "model_module_version": "1.5.0",
          "state": {
            "_model_module": "@jupyter-widgets/controls",
            "_model_module_version": "1.5.0",
            "_model_name": "DescriptionStyleModel",
            "_view_count": null,
            "_view_module": "@jupyter-widgets/base",
            "_view_module_version": "1.2.0",
            "_view_name": "StyleView",
            "description_width": ""
          }
        },
        "63a178477a0f4b0c8153ac7491282513": {
          "model_module": "@jupyter-widgets/base",
          "model_name": "LayoutModel",
          "model_module_version": "1.2.0",
          "state": {
            "_model_module": "@jupyter-widgets/base",
            "_model_module_version": "1.2.0",
            "_model_name": "LayoutModel",
            "_view_count": null,
            "_view_module": "@jupyter-widgets/base",
            "_view_module_version": "1.2.0",
            "_view_name": "LayoutView",
            "align_content": null,
            "align_items": null,
            "align_self": null,
            "border": null,
            "bottom": null,
            "display": null,
            "flex": null,
            "flex_flow": null,
            "grid_area": null,
            "grid_auto_columns": null,
            "grid_auto_flow": null,
            "grid_auto_rows": null,
            "grid_column": null,
            "grid_gap": null,
            "grid_row": null,
            "grid_template_areas": null,
            "grid_template_columns": null,
            "grid_template_rows": null,
            "height": null,
            "justify_content": null,
            "justify_items": null,
            "left": null,
            "margin": null,
            "max_height": null,
            "max_width": null,
            "min_height": null,
            "min_width": null,
            "object_fit": null,
            "object_position": null,
            "order": null,
            "overflow": null,
            "overflow_x": null,
            "overflow_y": null,
            "padding": null,
            "right": null,
            "top": null,
            "visibility": null,
            "width": null
          }
        },
        "ffb7b700e03d479e8fb3a39f344d8ca9": {
          "model_module": "@jupyter-widgets/controls",
          "model_name": "ProgressStyleModel",
          "model_module_version": "1.5.0",
          "state": {
            "_model_module": "@jupyter-widgets/controls",
            "_model_module_version": "1.5.0",
            "_model_name": "ProgressStyleModel",
            "_view_count": null,
            "_view_module": "@jupyter-widgets/base",
            "_view_module_version": "1.2.0",
            "_view_name": "StyleView",
            "bar_color": null,
            "description_width": ""
          }
        },
        "bce901181d51485eb9a77a26371cb5c5": {
          "model_module": "@jupyter-widgets/base",
          "model_name": "LayoutModel",
          "model_module_version": "1.2.0",
          "state": {
            "_model_module": "@jupyter-widgets/base",
            "_model_module_version": "1.2.0",
            "_model_name": "LayoutModel",
            "_view_count": null,
            "_view_module": "@jupyter-widgets/base",
            "_view_module_version": "1.2.0",
            "_view_name": "LayoutView",
            "align_content": null,
            "align_items": null,
            "align_self": null,
            "border": null,
            "bottom": null,
            "display": null,
            "flex": null,
            "flex_flow": null,
            "grid_area": null,
            "grid_auto_columns": null,
            "grid_auto_flow": null,
            "grid_auto_rows": null,
            "grid_column": null,
            "grid_gap": null,
            "grid_row": null,
            "grid_template_areas": null,
            "grid_template_columns": null,
            "grid_template_rows": null,
            "height": null,
            "justify_content": null,
            "justify_items": null,
            "left": null,
            "margin": null,
            "max_height": null,
            "max_width": null,
            "min_height": null,
            "min_width": null,
            "object_fit": null,
            "object_position": null,
            "order": null,
            "overflow": null,
            "overflow_x": null,
            "overflow_y": null,
            "padding": null,
            "right": null,
            "top": null,
            "visibility": null,
            "width": null
          }
        },
        "3545c95c49374a5f98fa32d2f90ab9c7": {
          "model_module": "@jupyter-widgets/controls",
          "model_name": "DescriptionStyleModel",
          "model_module_version": "1.5.0",
          "state": {
            "_model_module": "@jupyter-widgets/controls",
            "_model_module_version": "1.5.0",
            "_model_name": "DescriptionStyleModel",
            "_view_count": null,
            "_view_module": "@jupyter-widgets/base",
            "_view_module_version": "1.2.0",
            "_view_name": "StyleView",
            "description_width": ""
          }
        },
        "dd45a77731d24f80989a165854fc9ac6": {
          "model_module": "@jupyter-widgets/controls",
          "model_name": "HBoxModel",
          "model_module_version": "1.5.0",
          "state": {
            "_dom_classes": [],
            "_model_module": "@jupyter-widgets/controls",
            "_model_module_version": "1.5.0",
            "_model_name": "HBoxModel",
            "_view_count": null,
            "_view_module": "@jupyter-widgets/controls",
            "_view_module_version": "1.5.0",
            "_view_name": "HBoxView",
            "box_style": "",
            "children": [
              "IPY_MODEL_1036ffa29b6946419b35f28592ed01cc",
              "IPY_MODEL_f0941b6bce3f4a728c6406ff58421aad",
              "IPY_MODEL_21406ae1719d4857babcc469540b5cee"
            ],
            "layout": "IPY_MODEL_df41f0ed6ff340dfab15a83c8a2cd778"
          }
        },
        "1036ffa29b6946419b35f28592ed01cc": {
          "model_module": "@jupyter-widgets/controls",
          "model_name": "HTMLModel",
          "model_module_version": "1.5.0",
          "state": {
            "_dom_classes": [],
            "_model_module": "@jupyter-widgets/controls",
            "_model_module_version": "1.5.0",
            "_model_name": "HTMLModel",
            "_view_count": null,
            "_view_module": "@jupyter-widgets/controls",
            "_view_module_version": "1.5.0",
            "_view_name": "HTMLView",
            "description": "",
            "description_tooltip": null,
            "layout": "IPY_MODEL_35255f289a5e480fb72da20d3178c7c2",
            "placeholder": "​",
            "style": "IPY_MODEL_9d0bb5c93aa94a0ca28d1a406ac08fde",
            "value": "100%"
          }
        },
        "f0941b6bce3f4a728c6406ff58421aad": {
          "model_module": "@jupyter-widgets/controls",
          "model_name": "FloatProgressModel",
          "model_module_version": "1.5.0",
          "state": {
            "_dom_classes": [],
            "_model_module": "@jupyter-widgets/controls",
            "_model_module_version": "1.5.0",
            "_model_name": "FloatProgressModel",
            "_view_count": null,
            "_view_module": "@jupyter-widgets/controls",
            "_view_module_version": "1.5.0",
            "_view_name": "ProgressView",
            "bar_style": "success",
            "description": "",
            "description_tooltip": null,
            "layout": "IPY_MODEL_673a14ae930a4a4eb576ef71f5930943",
            "max": 3277026,
            "min": 0,
            "orientation": "horizontal",
            "style": "IPY_MODEL_9d85a3feeba5463ebaf58877356577cc",
            "value": 3277026
          }
        },
        "21406ae1719d4857babcc469540b5cee": {
          "model_module": "@jupyter-widgets/controls",
          "model_name": "HTMLModel",
          "model_module_version": "1.5.0",
          "state": {
            "_dom_classes": [],
            "_model_module": "@jupyter-widgets/controls",
            "_model_module_version": "1.5.0",
            "_model_name": "HTMLModel",
            "_view_count": null,
            "_view_module": "@jupyter-widgets/controls",
            "_view_module_version": "1.5.0",
            "_view_name": "HTMLView",
            "description": "",
            "description_tooltip": null,
            "layout": "IPY_MODEL_d1cb9e380def49048e25489b33a9a78b",
            "placeholder": "​",
            "style": "IPY_MODEL_89decce8598d453dabaa7604fd379a16",
            "value": " 3277026/3277026 [00:40&lt;00:00, 139642.94it/s]"
          }
        },
        "df41f0ed6ff340dfab15a83c8a2cd778": {
          "model_module": "@jupyter-widgets/base",
          "model_name": "LayoutModel",
          "model_module_version": "1.2.0",
          "state": {
            "_model_module": "@jupyter-widgets/base",
            "_model_module_version": "1.2.0",
            "_model_name": "LayoutModel",
            "_view_count": null,
            "_view_module": "@jupyter-widgets/base",
            "_view_module_version": "1.2.0",
            "_view_name": "LayoutView",
            "align_content": null,
            "align_items": null,
            "align_self": null,
            "border": null,
            "bottom": null,
            "display": null,
            "flex": null,
            "flex_flow": null,
            "grid_area": null,
            "grid_auto_columns": null,
            "grid_auto_flow": null,
            "grid_auto_rows": null,
            "grid_column": null,
            "grid_gap": null,
            "grid_row": null,
            "grid_template_areas": null,
            "grid_template_columns": null,
            "grid_template_rows": null,
            "height": null,
            "justify_content": null,
            "justify_items": null,
            "left": null,
            "margin": null,
            "max_height": null,
            "max_width": null,
            "min_height": null,
            "min_width": null,
            "object_fit": null,
            "object_position": null,
            "order": null,
            "overflow": null,
            "overflow_x": null,
            "overflow_y": null,
            "padding": null,
            "right": null,
            "top": null,
            "visibility": null,
            "width": null
          }
        },
        "35255f289a5e480fb72da20d3178c7c2": {
          "model_module": "@jupyter-widgets/base",
          "model_name": "LayoutModel",
          "model_module_version": "1.2.0",
          "state": {
            "_model_module": "@jupyter-widgets/base",
            "_model_module_version": "1.2.0",
            "_model_name": "LayoutModel",
            "_view_count": null,
            "_view_module": "@jupyter-widgets/base",
            "_view_module_version": "1.2.0",
            "_view_name": "LayoutView",
            "align_content": null,
            "align_items": null,
            "align_self": null,
            "border": null,
            "bottom": null,
            "display": null,
            "flex": null,
            "flex_flow": null,
            "grid_area": null,
            "grid_auto_columns": null,
            "grid_auto_flow": null,
            "grid_auto_rows": null,
            "grid_column": null,
            "grid_gap": null,
            "grid_row": null,
            "grid_template_areas": null,
            "grid_template_columns": null,
            "grid_template_rows": null,
            "height": null,
            "justify_content": null,
            "justify_items": null,
            "left": null,
            "margin": null,
            "max_height": null,
            "max_width": null,
            "min_height": null,
            "min_width": null,
            "object_fit": null,
            "object_position": null,
            "order": null,
            "overflow": null,
            "overflow_x": null,
            "overflow_y": null,
            "padding": null,
            "right": null,
            "top": null,
            "visibility": null,
            "width": null
          }
        },
        "9d0bb5c93aa94a0ca28d1a406ac08fde": {
          "model_module": "@jupyter-widgets/controls",
          "model_name": "DescriptionStyleModel",
          "model_module_version": "1.5.0",
          "state": {
            "_model_module": "@jupyter-widgets/controls",
            "_model_module_version": "1.5.0",
            "_model_name": "DescriptionStyleModel",
            "_view_count": null,
            "_view_module": "@jupyter-widgets/base",
            "_view_module_version": "1.2.0",
            "_view_name": "StyleView",
            "description_width": ""
          }
        },
        "673a14ae930a4a4eb576ef71f5930943": {
          "model_module": "@jupyter-widgets/base",
          "model_name": "LayoutModel",
          "model_module_version": "1.2.0",
          "state": {
            "_model_module": "@jupyter-widgets/base",
            "_model_module_version": "1.2.0",
            "_model_name": "LayoutModel",
            "_view_count": null,
            "_view_module": "@jupyter-widgets/base",
            "_view_module_version": "1.2.0",
            "_view_name": "LayoutView",
            "align_content": null,
            "align_items": null,
            "align_self": null,
            "border": null,
            "bottom": null,
            "display": null,
            "flex": null,
            "flex_flow": null,
            "grid_area": null,
            "grid_auto_columns": null,
            "grid_auto_flow": null,
            "grid_auto_rows": null,
            "grid_column": null,
            "grid_gap": null,
            "grid_row": null,
            "grid_template_areas": null,
            "grid_template_columns": null,
            "grid_template_rows": null,
            "height": null,
            "justify_content": null,
            "justify_items": null,
            "left": null,
            "margin": null,
            "max_height": null,
            "max_width": null,
            "min_height": null,
            "min_width": null,
            "object_fit": null,
            "object_position": null,
            "order": null,
            "overflow": null,
            "overflow_x": null,
            "overflow_y": null,
            "padding": null,
            "right": null,
            "top": null,
            "visibility": null,
            "width": null
          }
        },
        "9d85a3feeba5463ebaf58877356577cc": {
          "model_module": "@jupyter-widgets/controls",
          "model_name": "ProgressStyleModel",
          "model_module_version": "1.5.0",
          "state": {
            "_model_module": "@jupyter-widgets/controls",
            "_model_module_version": "1.5.0",
            "_model_name": "ProgressStyleModel",
            "_view_count": null,
            "_view_module": "@jupyter-widgets/base",
            "_view_module_version": "1.2.0",
            "_view_name": "StyleView",
            "bar_color": null,
            "description_width": ""
          }
        },
        "d1cb9e380def49048e25489b33a9a78b": {
          "model_module": "@jupyter-widgets/base",
          "model_name": "LayoutModel",
          "model_module_version": "1.2.0",
          "state": {
            "_model_module": "@jupyter-widgets/base",
            "_model_module_version": "1.2.0",
            "_model_name": "LayoutModel",
            "_view_count": null,
            "_view_module": "@jupyter-widgets/base",
            "_view_module_version": "1.2.0",
            "_view_name": "LayoutView",
            "align_content": null,
            "align_items": null,
            "align_self": null,
            "border": null,
            "bottom": null,
            "display": null,
            "flex": null,
            "flex_flow": null,
            "grid_area": null,
            "grid_auto_columns": null,
            "grid_auto_flow": null,
            "grid_auto_rows": null,
            "grid_column": null,
            "grid_gap": null,
            "grid_row": null,
            "grid_template_areas": null,
            "grid_template_columns": null,
            "grid_template_rows": null,
            "height": null,
            "justify_content": null,
            "justify_items": null,
            "left": null,
            "margin": null,
            "max_height": null,
            "max_width": null,
            "min_height": null,
            "min_width": null,
            "object_fit": null,
            "object_position": null,
            "order": null,
            "overflow": null,
            "overflow_x": null,
            "overflow_y": null,
            "padding": null,
            "right": null,
            "top": null,
            "visibility": null,
            "width": null
          }
        },
        "89decce8598d453dabaa7604fd379a16": {
          "model_module": "@jupyter-widgets/controls",
          "model_name": "DescriptionStyleModel",
          "model_module_version": "1.5.0",
          "state": {
            "_model_module": "@jupyter-widgets/controls",
            "_model_module_version": "1.5.0",
            "_model_name": "DescriptionStyleModel",
            "_view_count": null,
            "_view_module": "@jupyter-widgets/base",
            "_view_module_version": "1.2.0",
            "_view_name": "StyleView",
            "description_width": ""
          }
        }
      }
    }
  },
  "cells": [
    {
      "cell_type": "code",
      "execution_count": null,
      "metadata": {
        "colab": {
          "base_uri": "https://localhost:8080/"
        },
        "id": "tITid7x_o5B7",
        "outputId": "c6d20b6d-d0ed-40c1-bc2d-a867af68907b"
      },
      "outputs": [
        {
          "output_type": "stream",
          "name": "stdout",
          "text": [
            "Looking in indexes: https://pypi.org/simple, https://us-python.pkg.dev/colab-wheels/public/simple/\n",
            "Collecting transformers\n",
            "  Downloading transformers-4.19.2-py3-none-any.whl (4.2 MB)\n",
            "\u001b[K     |████████████████████████████████| 4.2 MB 5.1 MB/s \n",
            "\u001b[?25hRequirement already satisfied: requests in /usr/local/lib/python3.7/dist-packages (from transformers) (2.23.0)\n",
            "Collecting huggingface-hub<1.0,>=0.1.0\n",
            "  Downloading huggingface_hub-0.7.0-py3-none-any.whl (86 kB)\n",
            "\u001b[K     |████████████████████████████████| 86 kB 4.2 MB/s \n",
            "\u001b[?25hRequirement already satisfied: packaging>=20.0 in /usr/local/lib/python3.7/dist-packages (from transformers) (21.3)\n",
            "Collecting tokenizers!=0.11.3,<0.13,>=0.11.1\n",
            "  Downloading tokenizers-0.12.1-cp37-cp37m-manylinux_2_12_x86_64.manylinux2010_x86_64.whl (6.6 MB)\n",
            "\u001b[K     |████████████████████████████████| 6.6 MB 46.2 MB/s \n",
            "\u001b[?25hRequirement already satisfied: filelock in /usr/local/lib/python3.7/dist-packages (from transformers) (3.7.0)\n",
            "Requirement already satisfied: numpy>=1.17 in /usr/local/lib/python3.7/dist-packages (from transformers) (1.21.6)\n",
            "Requirement already satisfied: regex!=2019.12.17 in /usr/local/lib/python3.7/dist-packages (from transformers) (2019.12.20)\n",
            "Requirement already satisfied: importlib-metadata in /usr/local/lib/python3.7/dist-packages (from transformers) (4.11.4)\n",
            "Requirement already satisfied: tqdm>=4.27 in /usr/local/lib/python3.7/dist-packages (from transformers) (4.64.0)\n",
            "Collecting pyyaml>=5.1\n",
            "  Downloading PyYAML-6.0-cp37-cp37m-manylinux_2_5_x86_64.manylinux1_x86_64.manylinux_2_12_x86_64.manylinux2010_x86_64.whl (596 kB)\n",
            "\u001b[K     |████████████████████████████████| 596 kB 52.5 MB/s \n",
            "\u001b[?25hRequirement already satisfied: typing-extensions>=3.7.4.3 in /usr/local/lib/python3.7/dist-packages (from huggingface-hub<1.0,>=0.1.0->transformers) (4.2.0)\n",
            "Requirement already satisfied: pyparsing!=3.0.5,>=2.0.2 in /usr/local/lib/python3.7/dist-packages (from packaging>=20.0->transformers) (3.0.9)\n",
            "Requirement already satisfied: zipp>=0.5 in /usr/local/lib/python3.7/dist-packages (from importlib-metadata->transformers) (3.8.0)\n",
            "Requirement already satisfied: idna<3,>=2.5 in /usr/local/lib/python3.7/dist-packages (from requests->transformers) (2.10)\n",
            "Requirement already satisfied: chardet<4,>=3.0.2 in /usr/local/lib/python3.7/dist-packages (from requests->transformers) (3.0.4)\n",
            "Requirement already satisfied: certifi>=2017.4.17 in /usr/local/lib/python3.7/dist-packages (from requests->transformers) (2022.5.18.1)\n",
            "Requirement already satisfied: urllib3!=1.25.0,!=1.25.1,<1.26,>=1.21.1 in /usr/local/lib/python3.7/dist-packages (from requests->transformers) (1.24.3)\n",
            "Installing collected packages: pyyaml, tokenizers, huggingface-hub, transformers\n",
            "  Attempting uninstall: pyyaml\n",
            "    Found existing installation: PyYAML 3.13\n",
            "    Uninstalling PyYAML-3.13:\n",
            "      Successfully uninstalled PyYAML-3.13\n",
            "Successfully installed huggingface-hub-0.7.0 pyyaml-6.0 tokenizers-0.12.1 transformers-4.19.2\n"
          ]
        }
      ],
      "source": [
        "!pip install transformers"
      ]
    },
    {
      "cell_type": "code",
      "source": [
        "from transformers import pipeline"
      ],
      "metadata": {
        "id": "xgWr-nBGpBCJ"
      },
      "execution_count": null,
      "outputs": []
    },
    {
      "cell_type": "markdown",
      "source": [
        "## Importing needed libraries"
      ],
      "metadata": {
        "id": "x0g1E7iUsIxm"
      }
    },
    {
      "cell_type": "code",
      "source": [
        "from transformers import AutoConfig, AutoTokenizer, TFAutoModel\n",
        "\n",
        "PARSBERT = \"HooshvareLab/bert-base-parsbert-uncased\"\n",
        "config = AutoConfig.from_pretrained(PARSBERT)\n",
        "tokenizer = AutoTokenizer.from_pretrained(PARSBERT)\n",
        "model = TFAutoModel.from_pretrained(PARSBERT)\n",
        "\n",
        "text = \"ما در هوشواره معتقدیم با انتقال صحیح دانش و آگاهی، همه افراد می‌توانند از ابزارهای هوشمند استفاده کنند. شعار ما هوش مصنوعی برای همه است.\"\n",
        "\n",
        "tokenizer.tokenize(text)"
      ],
      "metadata": {
        "id": "Azu651Tgr1Z6",
        "colab": {
          "base_uri": "https://localhost:8080/",
          "height": 723,
          "referenced_widgets": [
            "2facf22cc0af455c8019d4c29d5f6983",
            "a3b868dabfac4294a43868774448eb94",
            "0e7c8652e26641cdb338502f225075a9",
            "abc8e388dc2442aa907eadf862c3aac2",
            "f9875c9e790647b697d6e68bac9257ab",
            "db19ad3f2f514b09abf3598c63e015d3",
            "b27a45287ca14a76ab797e0de418a271",
            "1955d0b22d6940e79a4efef537388330",
            "e8e2a22f21bf47bc9e3490e0f43985fb",
            "1868fc8fdc5b4c1db416d123a274db08",
            "92db78c19f1c41f38f97bea290286f76",
            "bb50a813906f4b99870e65b7aa3e2f96",
            "4766b2758789431f8bd60dece3ff0065",
            "d1844c317d0b4f6ca0b7e6335ead9a5b",
            "c10ecb16a2a44ca98c4d8fb68c420c32",
            "6d2f9435794d486799650db4fb862c2a",
            "88e1870c6ca44154b41c58e3e37a79e3",
            "67236d839b8e4c87b8b3d482cf969dd0",
            "be481c307b3745a5ac4b94f1e9719d0a",
            "2a863b4263ff41ae9ed243e02c0fbe1a",
            "fc1fa7c658704dd0a2eab69600836921",
            "04433b32661a48198cef5af1feceb643",
            "ecbfd6fa0d8d437c9595efe11b7f0410",
            "2a567f6886dc425989a48a314a4683d0",
            "d7fa8a533366494ca03aac5f06b8dbcb",
            "d48a1817717c455c9887a6613a6578ee",
            "6f66c6aef87c4f2792a10cca790604a3",
            "f1bc02b511074361a1afd37d9a162f9f",
            "20aac94e600a4447b965725ba0f13bc2",
            "63a178477a0f4b0c8153ac7491282513",
            "ffb7b700e03d479e8fb3a39f344d8ca9",
            "bce901181d51485eb9a77a26371cb5c5",
            "3545c95c49374a5f98fa32d2f90ab9c7"
          ]
        },
        "outputId": "de5d17de-b5d0-40fb-9dd5-d818dc5cf5ae"
      },
      "execution_count": null,
      "outputs": [
        {
          "output_type": "display_data",
          "data": {
            "text/plain": [
              "Downloading:   0%|          | 0.00/434 [00:00<?, ?B/s]"
            ],
            "application/vnd.jupyter.widget-view+json": {
              "version_major": 2,
              "version_minor": 0,
              "model_id": "2facf22cc0af455c8019d4c29d5f6983"
            }
          },
          "metadata": {}
        },
        {
          "output_type": "display_data",
          "data": {
            "text/plain": [
              "Downloading:   0%|          | 0.00/1.16M [00:00<?, ?B/s]"
            ],
            "application/vnd.jupyter.widget-view+json": {
              "version_major": 2,
              "version_minor": 0,
              "model_id": "bb50a813906f4b99870e65b7aa3e2f96"
            }
          },
          "metadata": {}
        },
        {
          "output_type": "display_data",
          "data": {
            "text/plain": [
              "Downloading:   0%|          | 0.00/919M [00:00<?, ?B/s]"
            ],
            "application/vnd.jupyter.widget-view+json": {
              "version_major": 2,
              "version_minor": 0,
              "model_id": "ecbfd6fa0d8d437c9595efe11b7f0410"
            }
          },
          "metadata": {}
        },
        {
          "output_type": "stream",
          "name": "stderr",
          "text": [
            "Some layers from the model checkpoint at HooshvareLab/bert-base-parsbert-uncased were not used when initializing TFBertModel: ['nsp___cls', 'mlm___cls']\n",
            "- This IS expected if you are initializing TFBertModel from the checkpoint of a model trained on another task or with another architecture (e.g. initializing a BertForSequenceClassification model from a BertForPreTraining model).\n",
            "- This IS NOT expected if you are initializing TFBertModel from the checkpoint of a model that you expect to be exactly identical (initializing a BertForSequenceClassification model from a BertForSequenceClassification model).\n",
            "All the layers of TFBertModel were initialized from the model checkpoint at HooshvareLab/bert-base-parsbert-uncased.\n",
            "If your task is similar to the task the model of the checkpoint was trained on, you can already use TFBertModel for predictions without further training.\n"
          ]
        },
        {
          "output_type": "execute_result",
          "data": {
            "text/plain": [
              "['ما',\n",
              " 'در',\n",
              " 'هوش',\n",
              " '##واره',\n",
              " 'معتقدیم',\n",
              " 'با',\n",
              " 'انتقال',\n",
              " 'صحیح',\n",
              " 'دانش',\n",
              " 'و',\n",
              " 'اگاهی',\n",
              " '،',\n",
              " 'همه',\n",
              " 'افراد',\n",
              " 'میتوانند',\n",
              " 'از',\n",
              " 'ابزارهای',\n",
              " 'هوشمند',\n",
              " 'استفاده',\n",
              " 'کنند',\n",
              " '.',\n",
              " 'شعار',\n",
              " 'ما',\n",
              " 'هوش',\n",
              " 'مصنوعی',\n",
              " 'برای',\n",
              " 'همه',\n",
              " 'است',\n",
              " '.']"
            ]
          },
          "metadata": {},
          "execution_count": 3
        }
      ]
    },
    {
      "cell_type": "code",
      "source": [
        "import random \n",
        "import numpy as np\n",
        "import nltk\n",
        "import pandas as pd\n",
        "import codecs\n",
        "import tqdm"
      ],
      "metadata": {
        "id": "UXxweBpH7w4y"
      },
      "execution_count": null,
      "outputs": []
    },
    {
      "cell_type": "code",
      "source": [
        "!pip install hazm"
      ],
      "metadata": {
        "colab": {
          "base_uri": "https://localhost:8080/",
          "height": 537
        },
        "id": "VqQ1YjC-7yrd",
        "outputId": "a3ffbaa0-18d7-402e-f237-688beeecc1fd"
      },
      "execution_count": null,
      "outputs": [
        {
          "output_type": "stream",
          "name": "stdout",
          "text": [
            "Looking in indexes: https://pypi.org/simple, https://us-python.pkg.dev/colab-wheels/public/simple/\n",
            "Collecting hazm\n",
            "  Downloading hazm-0.7.0-py3-none-any.whl (316 kB)\n",
            "\u001b[K     |████████████████████████████████| 316 kB 5.0 MB/s \n",
            "\u001b[?25hCollecting libwapiti>=0.2.1\n",
            "  Downloading libwapiti-0.2.1.tar.gz (233 kB)\n",
            "\u001b[K     |████████████████████████████████| 233 kB 48.2 MB/s \n",
            "\u001b[?25hCollecting nltk==3.3\n",
            "  Downloading nltk-3.3.0.zip (1.4 MB)\n",
            "\u001b[K     |████████████████████████████████| 1.4 MB 42.9 MB/s \n",
            "\u001b[?25hRequirement already satisfied: six in /usr/local/lib/python3.7/dist-packages (from nltk==3.3->hazm) (1.15.0)\n",
            "Building wheels for collected packages: nltk, libwapiti\n",
            "  Building wheel for nltk (setup.py) ... \u001b[?25l\u001b[?25hdone\n",
            "  Created wheel for nltk: filename=nltk-3.3-py3-none-any.whl size=1394487 sha256=c39a1bd9dbf3db5bee3471115100f25da610eb2be52bc06ec90720efde26822d\n",
            "  Stored in directory: /root/.cache/pip/wheels/9b/fd/0c/d92302c876e5de87ebd7fc0979d82edb93e2d8d768bf71fac4\n",
            "  Building wheel for libwapiti (setup.py) ... \u001b[?25l\u001b[?25hdone\n",
            "  Created wheel for libwapiti: filename=libwapiti-0.2.1-cp37-cp37m-linux_x86_64.whl size=153857 sha256=fb1ec115959e3e8e52f89007afce68bd06b8819ee7998d37c36301d6f933628f\n",
            "  Stored in directory: /root/.cache/pip/wheels/ab/b2/5b/0fe4b8f5c0e65341e8ea7bb3f4a6ebabfe8b1ac31322392dbf\n",
            "Successfully built nltk libwapiti\n",
            "Installing collected packages: nltk, libwapiti, hazm\n",
            "  Attempting uninstall: nltk\n",
            "    Found existing installation: nltk 3.2.5\n",
            "    Uninstalling nltk-3.2.5:\n",
            "      Successfully uninstalled nltk-3.2.5\n",
            "Successfully installed hazm-0.7.0 libwapiti-0.2.1 nltk-3.3\n"
          ]
        },
        {
          "output_type": "display_data",
          "data": {
            "application/vnd.colab-display-data+json": {
              "pip_warning": {
                "packages": [
                  "nltk"
                ]
              }
            }
          },
          "metadata": {}
        }
      ]
    },
    {
      "cell_type": "code",
      "source": [
        "from __future__ import unicode_literals\n",
        "from hazm import *\n",
        "import string\n",
        "normalizer = Normalizer()\n"
      ],
      "metadata": {
        "id": "ZeJZkVRc79ke"
      },
      "execution_count": null,
      "outputs": []
    },
    {
      "cell_type": "markdown",
      "source": [
        "Here we implemented our own normalizer. This normalizer converts each half-space into a space as it is more compatible to our model."
      ],
      "metadata": {
        "id": "6v2t7e8YSJAC"
      }
    },
    {
      "cell_type": "code",
      "source": [
        "text = \"پس از سال‌‌ها تلاش رازی موفق به کشف الکل شد. این دانشمند ایرانی باعث افتخار در تاریخ کور است.\"\n",
        "\n",
        "def normalize_input(inp: str):\n",
        "  inp_splitted =  inp.strip().split()\n",
        "  inp_with_halfspace = normalizer.normalize(\" \".join(inp_splitted))\n",
        "  inp_without_halfspace = inp_with_halfspace.replace(\"\\u200c\", \" \")\n",
        "  for ch in string.punctuation:\n",
        "    inp_without_halfspace = inp_without_halfspace.replace(ch, \" \"+ ch + \" \")\n",
        "  words_list = [word.strip() for word in inp_without_halfspace.split()]\n",
        "  # words_list.remove(\"ها\")\n",
        "  normalized = \" \".join(words_list)\n",
        "  return normalized\n",
        "normalize_input(text)"
      ],
      "metadata": {
        "colab": {
          "base_uri": "https://localhost:8080/",
          "height": 36
        },
        "id": "YXwYuDQa7dzO",
        "outputId": "0761dc80-65b4-45fa-d297-cd6297dfd53a"
      },
      "execution_count": null,
      "outputs": [
        {
          "output_type": "execute_result",
          "data": {
            "text/plain": [
              "'پس از سال ها تلاش رازی موفق به کشف الکل شد . این دانشمند ایرانی باعث افتخار در تاریخ کور است .'"
            ],
            "application/vnd.google.colaboratory.intrinsic+json": {
              "type": "string"
            }
          },
          "metadata": {},
          "execution_count": 7
        }
      ]
    },
    {
      "cell_type": "markdown",
      "source": [
        "Here we download the pre-trained parsbert Model. We used the fill mask mode as it can help us to predict the unknown words in a sentence.\n"
      ],
      "metadata": {
        "id": "Pa1KbSioSYCu"
      }
    },
    {
      "cell_type": "code",
      "source": [
        "model = pipeline('fill-mask', model=PARSBERT)"
      ],
      "metadata": {
        "colab": {
          "base_uri": "https://localhost:8080/"
        },
        "id": "dgrY06x_s_MW",
        "outputId": "1e01e01f-f4e3-4818-a6f0-ac6c0427a90d"
      },
      "execution_count": null,
      "outputs": [
        {
          "output_type": "stream",
          "name": "stderr",
          "text": [
            "Some weights of the model checkpoint at HooshvareLab/bert-base-parsbert-uncased were not used when initializing BertForMaskedLM: ['cls.seq_relationship.weight', 'cls.seq_relationship.bias']\n",
            "- This IS expected if you are initializing BertForMaskedLM from the checkpoint of a model trained on another task or with another architecture (e.g. initializing a BertForSequenceClassification model from a BertForPreTraining model).\n",
            "- This IS NOT expected if you are initializing BertForMaskedLM from the checkpoint of a model that you expect to be exactly identical (initializing a BertForSequenceClassification model from a BertForSequenceClassification model).\n"
          ]
        }
      ]
    },
    {
      "cell_type": "markdown",
      "source": [
        "These two functions receive an index and change the value of the word with that index in the sentence to \"[MASK]\" token."
      ],
      "metadata": {
        "id": "x5oNCehFSxlK"
      }
    },
    {
      "cell_type": "code",
      "source": [
        "def tester(sent, ind):\n",
        "    words = sent.strip().split()\n",
        "    response = dict()\n",
        "    prev_len = sent.find(words[ind])\n",
        "    response[\"raw\"] = words[ind] \n",
        "    response[\"correct\"] = None\n",
        "    last_index = prev_len + len(words[ind]) \n",
        "    response[\"span\"] = [prev_len, last_index]\n",
        "    return response, ' '.join(words[:ind] + [\"[MASK]\"] + words[ind+1:])\n",
        "\n",
        "def count_spaces_between(sent, last_index):\n",
        "    count = 0\n",
        "    if len(sent) <= last_index + 1:\n",
        "        return count\n",
        "    for ch in sent[last_index+1:]:\n",
        "        if ch in string.whitespace:\n",
        "            count += 1\n",
        "        else:\n",
        "          if(sent[len(sent)-1] in string.whitespace):\n",
        "            return count - 1\n",
        "          else:\n",
        "            return count"
      ],
      "metadata": {
        "id": "oR7yjKbRtfje"
      },
      "execution_count": null,
      "outputs": []
    },
    {
      "cell_type": "markdown",
      "source": [
        "This function only removes the ## in the tokens related that are tokenized by the bert model's tokenizer."
      ],
      "metadata": {
        "id": "Ldtvi21fUUDy"
      }
    },
    {
      "cell_type": "code",
      "source": [
        "def attach(tokenized):\n",
        "  string = \"\"\n",
        "  for token in tokenized:\n",
        "    if token[:2] == \"##\":\n",
        "      string += token[2:]\n",
        "    else:\n",
        "      string += \" \" + token\n",
        "  return string"
      ],
      "metadata": {
        "id": "XHZxA22dzfbS"
      },
      "execution_count": null,
      "outputs": []
    },
    {
      "cell_type": "code",
      "source": [
        "!pip install gensim -U"
      ],
      "metadata": {
        "colab": {
          "base_uri": "https://localhost:8080/"
        },
        "id": "syu7rezAl1vK",
        "outputId": "185ea13e-1e82-4068-c43c-2dcb41091a09"
      },
      "execution_count": null,
      "outputs": [
        {
          "output_type": "stream",
          "name": "stdout",
          "text": [
            "Looking in indexes: https://pypi.org/simple, https://us-python.pkg.dev/colab-wheels/public/simple/\n",
            "Requirement already satisfied: gensim in /usr/local/lib/python3.7/dist-packages (3.6.0)\n",
            "Collecting gensim\n",
            "  Downloading gensim-4.2.0-cp37-cp37m-manylinux_2_12_x86_64.manylinux2010_x86_64.whl (24.1 MB)\n",
            "\u001b[K     |████████████████████████████████| 24.1 MB 1.7 MB/s \n",
            "\u001b[?25hRequirement already satisfied: scipy>=0.18.1 in /usr/local/lib/python3.7/dist-packages (from gensim) (1.4.1)\n",
            "Requirement already satisfied: numpy>=1.17.0 in /usr/local/lib/python3.7/dist-packages (from gensim) (1.21.6)\n",
            "Requirement already satisfied: smart-open>=1.8.1 in /usr/local/lib/python3.7/dist-packages (from gensim) (6.0.0)\n",
            "Installing collected packages: gensim\n",
            "  Attempting uninstall: gensim\n",
            "    Found existing installation: gensim 3.6.0\n",
            "    Uninstalling gensim-3.6.0:\n",
            "      Successfully uninstalled gensim-3.6.0\n",
            "Successfully installed gensim-4.2.0\n"
          ]
        }
      ]
    },
    {
      "cell_type": "code",
      "source": [
        "import gensim # we only used it for finding levenshtein similarity between two words."
      ],
      "metadata": {
        "id": "v25w6faUlhVa"
      },
      "execution_count": null,
      "outputs": []
    },
    {
      "cell_type": "markdown",
      "source": [
        "This function finds the word with minimum edit distance and maximum score."
      ],
      "metadata": {
        "id": "27m9vUhAZv7f"
      }
    },
    {
      "cell_type": "code",
      "source": [
        "def get_recommended_word(word, predictions):\n",
        "  min_dist = 1000\n",
        "  predicted = predictions[0]\n",
        "  for potential in predictions:\n",
        "      distance = gensim.similarities.fastss.editdist(potential, word)\n",
        "      if distance == 1:\n",
        "        return potential\n",
        "      if distance < min_dist:\n",
        "        min_dist = distance\n",
        "        predicted = potential\n",
        "  return predicted"
      ],
      "metadata": {
        "id": "nBnzwRzFj9W_"
      },
      "execution_count": null,
      "outputs": []
    },
    {
      "cell_type": "markdown",
      "source": [
        "It detects if the input word is in the corpus of the bert model."
      ],
      "metadata": {
        "id": "YKHq-KrSZ7ld"
      }
    },
    {
      "cell_type": "code",
      "source": [
        "def is_true(resp, input_str, max_threshold = 1500):\n",
        "  tokenized = tokenizer.tokenize(input_str)\n",
        "  attached = attach(tokenized)\n",
        "  preds = model(attached, top_k = max_threshold)\n",
        "  preds_str = [pred[\"token_str\"] for pred in preds]\n",
        "  num_of_occurence = -1\n",
        "  if resp[\"raw\"] in preds_str:\n",
        "    num_of_occurence = preds_str.index(resp[\"raw\"])\n",
        "  return resp[\"raw\"] in preds_str, num_of_occurence, preds_str\n"
      ],
      "metadata": {
        "id": "MIT2FxqwQvll"
      },
      "execution_count": null,
      "outputs": []
    },
    {
      "cell_type": "markdown",
      "source": [
        "This function loops over the words in each sentence and uses the two previouse functions to find out if the word has a correct spelling."
      ],
      "metadata": {
        "id": "ZKV4DUmtaGAC"
      }
    },
    {
      "cell_type": "code",
      "source": [
        "def evaluate(sent):\n",
        "  sent = normalize_input(sent)\n",
        "  print(\"The input sentence: \", sent)\n",
        "  text_arr = sent.split()\n",
        "  for ind in range(len(text_arr)):\n",
        "    print(sent)\n",
        "    resp, input_str = tester(sent, ind)\n",
        "    if resp[\"raw\"] == \"ها\":\n",
        "      continue;\n",
        "    is_valid, num_of_occurence, predictions = is_true(resp, input_str)\n",
        "    if is_valid:\n",
        "      print(\"the word \", resp[\"raw\"], \" is true! and occured in number \", num_of_occurence)\n",
        "    else:\n",
        "      print(\"the word \", resp[\"raw\"], \"is false!\")\n",
        "      recom_word = get_recommended_word(resp[\"raw\"], predictions)\n",
        "      print(\" we recommed you to use the word\", recom_word)\n",
        "      text_arr[ind] = recom_word\n",
        "      print(\"other predictions: \", predictions)\n",
        "      text = ' '.join(text_arr)  \n",
        "    print(\"-\"*50)"
      ],
      "metadata": {
        "id": "sLgap-XaL7DW"
      },
      "execution_count": null,
      "outputs": []
    },
    {
      "cell_type": "code",
      "source": [
        "text = \"بسیاری از مباحث علوم غیرطبیعی با استفاده از فیزیک دنیای مادی ابل توجیح نیست و برای یادگیری باید به فلسفه های خاصی رجو کرد.\"\n",
        "text = normalize_input(text)\n",
        "evaluate(text)"
      ],
      "metadata": {
        "colab": {
          "base_uri": "https://localhost:8080/"
        },
        "id": "NN5XtQMyyG4_",
        "outputId": "ff5e320d-e0a8-4d66-e7ea-87057c0257de"
      },
      "execution_count": null,
      "outputs": [
        {
          "output_type": "stream",
          "name": "stdout",
          "text": [
            "The input sentence:  بسیاری از مباحث علوم غیرطبیعی با استفاده از فیزیک دنیای مادی ابل توجیح نیست و برای یادگیری باید به فلسفه های خاصی رجو کرد .\n",
            "بسیاری از مباحث علوم غیرطبیعی با استفاده از فیزیک دنیای مادی ابل توجیح نیست و برای یادگیری باید به فلسفه های خاصی رجو کرد .\n",
            "the word  بسیاری  is true! and occured in number  0\n",
            "--------------------------------------------------\n",
            "بسیاری از مباحث علوم غیرطبیعی با استفاده از فیزیک دنیای مادی ابل توجیح نیست و برای یادگیری باید به فلسفه های خاصی رجو کرد .\n",
            "the word  از  is true! and occured in number  0\n",
            "--------------------------------------------------\n",
            "بسیاری از مباحث علوم غیرطبیعی با استفاده از فیزیک دنیای مادی ابل توجیح نیست و برای یادگیری باید به فلسفه های خاصی رجو کرد .\n",
            "the word  مباحث  is true! and occured in number  56\n",
            "--------------------------------------------------\n",
            "بسیاری از مباحث علوم غیرطبیعی با استفاده از فیزیک دنیای مادی ابل توجیح نیست و برای یادگیری باید به فلسفه های خاصی رجو کرد .\n",
            "the word  علوم  is true! and occured in number  0\n",
            "--------------------------------------------------\n",
            "بسیاری از مباحث علوم غیرطبیعی با استفاده از فیزیک دنیای مادی ابل توجیح نیست و برای یادگیری باید به فلسفه های خاصی رجو کرد .\n",
            "the word  غیرطبیعی  is true! and occured in number  701\n",
            "--------------------------------------------------\n",
            "بسیاری از مباحث علوم غیرطبیعی با استفاده از فیزیک دنیای مادی ابل توجیح نیست و برای یادگیری باید به فلسفه های خاصی رجو کرد .\n",
            "the word  با  is true! and occured in number  1\n",
            "--------------------------------------------------\n",
            "بسیاری از مباحث علوم غیرطبیعی با استفاده از فیزیک دنیای مادی ابل توجیح نیست و برای یادگیری باید به فلسفه های خاصی رجو کرد .\n",
            "the word  استفاده  is true! and occured in number  0\n",
            "--------------------------------------------------\n",
            "بسیاری از مباحث علوم غیرطبیعی با استفاده از فیزیک دنیای مادی ابل توجیح نیست و برای یادگیری باید به فلسفه های خاصی رجو کرد .\n",
            "the word  از  is true! and occured in number  0\n",
            "--------------------------------------------------\n",
            "بسیاری از مباحث علوم غیرطبیعی با استفاده از فیزیک دنیای مادی ابل توجیح نیست و برای یادگیری باید به فلسفه های خاصی رجو کرد .\n",
            "the word  فیزیک  is true! and occured in number  74\n",
            "--------------------------------------------------\n",
            "بسیاری از مباحث علوم غیرطبیعی با استفاده از فیزیک دنیای مادی ابل توجیح نیست و برای یادگیری باید به فلسفه های خاصی رجو کرد .\n",
            "the word  دنیای  is true! and occured in number  76\n",
            "--------------------------------------------------\n",
            "بسیاری از مباحث علوم غیرطبیعی با استفاده از فیزیک دنیای مادی ابل توجیح نیست و برای یادگیری باید به فلسفه های خاصی رجو کرد .\n",
            "the word  مادی  is true! and occured in number  45\n",
            "--------------------------------------------------\n",
            "بسیاری از مباحث علوم غیرطبیعی با استفاده از فیزیک دنیای مادی ابل توجیح نیست و برای یادگیری باید به فلسفه های خاصی رجو کرد .\n",
            "the word  ابل  is true! and occured in number  1324\n",
            "--------------------------------------------------\n",
            "بسیاری از مباحث علوم غیرطبیعی با استفاده از فیزیک دنیای مادی ابل توجیح نیست و برای یادگیری باید به فلسفه های خاصی رجو کرد .\n",
            "the word  توجیح is false!\n",
            " we recommed you to use the word توجیه\n",
            "other predictions:  ['پذیر', '##پذیر', 'شدنی', 'حل', 'ممکن', 'امکانپذیر', 'یادگیری', 'دسترس', 'کاربردی', 'سازگار', 'درک', 'شده', '##حل', 'اشنا', 'انتقال', 'ارتباط', 'فهم', '##دنی', 'عملی', '##ی', 'اشنایی', 'تغییر', 'قبول', 'علمی', 'ساده', 'تطبیق', 'توجیه', 'جدید', 'ذهن', 'انجام', 'مقایسه', 'میسر', 'مطرح', 'مرتبط', 'تدریس', 'کردنی', 'پیچیده', '##شدنی', 'قیاس', 'درست', 'پیدا', 'اجرا', 'تحقق', 'اثبات', 'کار', 'تصور', 'همراه', 'کنترل', 'منطبق', 'مشاهده', 'دانش', 'تحلیل', 'مشخص', 'گیری', 'متفاوت', 'توضیح', 'مطالعه', 'بررسی', 'جذاب', 'امیز', '##ت', 'چالش', 'منطقی', 'بیان', 'توجه', 'تشخیص', 'جریان', 'بین', '##خیص', 'محقق', 'مند', 'جواب', 'تنظیم', 'تبادل', 'بخش', 'تازهای', 'سازگاری', 'تکمیل', 'متناسب', 'استخراج', '##بردار', 'انتزاعی', 'مفهوم', '##ز', 'تعارض', 'مهم', 'اختیار', '##شده', 'جور', 'مقدور', 'مطابق', 'اموزش', 'یا', 'دست', 'تحمل', 'جدیدی', 'دار', 'پذیرش', 'مناسب', 'کارامد', 'اموز', 'فراهم', 'فهمیدن', 'هضم', 'مربوط', 'تکرار', 'مشکل', 'عملیاتی', 'ربط', 'یافته', 'سادهای', 'هماهنگی', 'پیچیدهای', 'علم', 'کردن', '##ساز', 'لمس', 'تضاد', 'نظر', 'جالب', 'اور', 'باب', 'بدیهی', 'مفید', 'دگرگونی', 'منتقل', 'میان', 'اسان', 'امکان', '##ل', 'جبران', 'تحول', 'انگیز', 'گرفته', '##ن', 'ساز', 'طور', 'صحیح', 'تایید', 'انطباق', 'ارايه', 'ان', '##ه', 'بلد', 'روز', 'بحث', 'تفسیر', 'دسترسی', 'کامل', 'اوری', 'استفاده', 'زا', 'تعریف', 'محاسبه', 'تجربه', '##تر', 'داشته', 'اسانی', 'تازه', 'هماهنگ', '##ش', 'شکل', 'مدیریت', 'باور', 'پاسخ', 'کننده', '##ر', 'یافتنی', '##گو', 'بر', 'ریاضیات', '##اور', 'تلفیق', 'مذاکره', 'رویت', 'پاسخگو', 'نظری', 'مفهومی', 'استنباط', 'راحتی', 'و', 'وابسته', 'زنده', 'درمان', 'ریاضی', 'رفع', 'ترکیب', 'انها', 'کرده', '،', 'راهگشا', '##قال', 'جمع', 'مانوس', 'قابل', 'ترجمه', 'پذیرفته', 'پیچیدگی', 'توسعه', 'جوابگو', 'جاری', 'فراگیری', '##محور', 'سازی', 'حرکت', 'معنی', 'مجازی', 'کارساز', 'درس', 'سنجش', 'پیشرفت', '##دار', 'خوشایند', 'معنا', 'امروزی', 'بینی', 'واقعی', 'تخیل', 'صادق', '##غییر', 'ذهنی', 'نقد', 'شدن', 'راحت', 'دقیق', 'وارد', 'طراحی', 'کشف', 'یافت', 'جوابگوی', '##ا', 'تامین', 'عجیب', 'جایگزین', 'انسان', 'امده', 'معانی', 'دشوار', 'مطابقت', 'نیاز', '##ان', 'نقض', 'ارزیابی', 'روشن', 'معلوم', '##کننده', '##ور', '##طی', 'همخوانی', 'برابر', 'امیخته', 'ارایه', 'تولید', 'تقابل', '##ق', 'زندگی', 'صلاح', 'بدیع', 'گذراندن', 'تجربی', '##ای', 'غریب', 'محدود', 'وقوع', 'اولویت', 'جذب', 'همخوان', 'گذار', 'نااشنا', '##ع', 'تکراری', 'تفهیم', 'دستیابی', 'صرفه', 'تخصصی', 'رابطه', 'اشتباه', '##رح', 'نو', 'تقلید', 'تمرین', '##افته', 'دروس', 'مهیا', 'سر', 'راه', 'شناختی', 'تطابق', 'دستیافتنی', 'تناسب', 'بیارتباط', '##گرا', 'خوانی', 'اموزان', '##م', 'عمیق', 'فلسفه', 'دیدن', 'میشود', 'ازمون', 'یکی', 'اصلاح', 'تعمیم', 'موجود', 'باز', 'شنیدن', 'واقعیت', 'محور', '##ک', '##کردنی', 'فقه', 'کاربرد', 'ریزی', '##درک', 'فلسفی', 'بروز', 'تعامل', 'مشترک', 'اموزشی', 'مستقیم', 'راستا', 'گو', 'طرح', 'نسبیت', 'نظیر', 'توصیف', 'سخت', 'بازی', 'گریز', 'پسند', 'ثابت', '##هی', 'پیوند', 'عمومی', 'اموزی', 'انتشار', '##ف', 'شوخی', 'طبیعی', 'پردازش', 'نزدیک', 'فصل', 'ایجاد', 'متوجه', 'داده', '##ح', 'اقتصادی', 'ال', 'هم', '##ب', '##رس', 'یکنواخت', 'کافی', 'رقابت', 'مکانیکی', 'برداشت', 'گفتن', 'برقرار', '##سازی', 'حلوفصل', 'اجرایی', 'شبیهسازی', 'تاثیرگذار', 'زدن', 'اماده', '##س', 'اینده', 'علوم', 'خاص', 'منزل', 'اتفاق', '##اب', 'گرا', '##حص', 'شناخت', 'مفاهیم', 'شناسایی', '##ده', 'بشری', 'خلاقیت', 'حوزه', 'بیش', 'جدا', 'دور', 'کارشناسی', '##مان', 'مرسوم', 'ارتباطی', 'منتفی', 'بسط', 'رایج', '##شان', '##نی', '##خوان', 'درستی', '##زا', '##نید', 'برطرف', 'بهینه', 'عقلانی', 'تکامل', 'حاصل', 'مواجه', 'غریبه', 'سادگی', '##گیری', 'مشکلی', 'موافق', 'بار', 'میز', 'مکانیک', 'ساخته', 'فکر', 'متعارف', 'گیر', 'اصطکاک', 'پژوهش', 'دنیا', 'حرفهای', 'صورت', 'خارج', '##دهنده', 'دگرگون', 'غیرممکن', 'امروز', '##و', 'صحبت', 'مهندسی', 'دیگر', '##د', 'گویا', '##دهی', 'مخلوط', 'رشته', 'بهبود', 'رشتهای', 'پویا', 'تفاوت', 'گذاری', 'ارزش', 'همسو', 'مطلوب', 'تحصیل', 'یکدیگر', '##ون', 'بسته', 'تبیین', 'قادر', 'شد', 'زیبا', 'گسترش', '##ط', 'دانلود', 'تحقیق', 'تقلیدی', 'موثر', 'صرف', 'تناقض', 'مراد', '##ها', 'معقول', 'جذابی', '##بر', 'بند', '##جر', 'امد', 'خلاصه', 'ازمایش', 'توجیهپذیر', 'روبرو', 'گردش', 'تفکیک', '##رت', 'قرار', 'دانشاموزان', 'فیزیک', 'خالی', '##ناس', 'یکسان', 'انعطاف', '##شن', 'بردار', '##داول', '##یب', 'که', 'حاضر', 'فنی', 'شفاف', 'اشنای', '##وس', 'ملا', 'پیش', '##دسترسی', 'پیشبینی', 'مناسبی', '##از', 'مییابد', '##عنی', 'شبیه', 'شباهت', 'امتحان', 'ایستا', 'کلاس', 'مغز', 'پرسیدن', 'اهمیت', 'تدوین', 'معنایی', 'ردیابی', 'لازم', '##پسند', '##وی', 'طلب', 'گسترده', 'میسور', 'دانشجویان', 'نشده', 'دریافت', 'کنار', '##اد', 'نداشته', 'پیشبرد', 'جدی', 'اختیارمان', 'اما', 'مدارس', 'عمل', 'پخته', 'دانشگاهی', 'پیشرفته', 'منطق', 'ملموس', 'دادن', 'مجسم', 'خارجی', '##یک', 'جداسازی', '##ة', '##صور', '##گرایانه', '##اسب', 'تخیلی', 'چاپ', 'تجمیع', 'مورد', 'اطلاع', 'کهنه', 'فراگیر', 'بیرون', '##کردن', 'پرداخت', '##یل', 'چرخش', 'مستند', 'تطبیقی', 'ناممکن', 'شهودی', 'خاطر', 'سهل', 'فعال', 'خوب', 'پژوهشی', 'خیال', 'شهود', 'رشد', 'سودمند', 'تيوری', 'تفکر', 'غنی', 'رفته', 'اطلاعات', 'اقتصاد', '##وژی', 'اشتی', 'کتاب', 'رشتههای', 'هموار', 'جمله', 'وصول', '##اذ', 'فرض', 'ما', 'تمیز', '##ات', '##گر', 'مرتفع', 'اخلاقی', 'سروکار', '##پذیرش', '…', '##بط', 'مدار', 'روزمره', 'صحیحی', 'جهان', '##میل', 'محض', 'جدل', 'مبهم', '##وری', 'پاسخگوی', 'منحصر', 'اصلی', 'گشا', 'حدس', 'اعتماد', 'دنیای', 'حال', 'کارامدی', 'نواورانه', '##ند', '##طرح', 'اندازهگیری', 'عالم', 'نواوری', 'پایه', 'وفق', '##اموز', 'افتاده', 'بومی', 'تماس', 'پرورش', '##ص', 'درگیر', 'براورده', 'پاسخگویی', 'بیگانه', 'بیربط', 'کند', 'کم', 'افراد', 'علاج', 'پذیرفتن', 'ناپذیر', 'گفتگو', 'جایگزینی', 'اعتنا', 'پوشش', 'ارضای', 'استاندارد', 'سنتی', 'عادی', 'یافتن', 'سوداور', '##خوانی', 'اختصاصی', 'عقل', 'درسی', 'استناد', 'دهنده', '##وجیه', '##یی', 'کسب', 'لو', 'مبادله', 'نامفهوم', 'نهایی', 'پوشیده', 'دیده', 'خوبی', 'پیچیدهتر', 'ارجاع', '##زی', 'نامتعارف', 'از', '##قی', 'ابداع', 'مبحث', 'کلاسیک', 'پرداختن', 'اساسی', '##رو', 'رخ', 'پذیرفتنی', 'اوردن', '##عر', 'مانده', 'استدلالی', 'مدرن', 'میشوند', 'بازیافت', 'خبر', 'روشمند', 'هیجانانگیز', '##ابی', 'نمایش', 'یکسانی', '##مع', 'ارزشمند', '##ناپذیر', '##دن', 'بوده', '##ال', 'ارضا', 'مخالف', 'دارد', 'تصحیح', 'فروش', 'ارتباطات', 'مدنظر', '##ذهن', 'معنادار', 'نشر', 'اموختن', 'زبان', 'واقع', '##ناسب', 'متمرکز', '##انگیز', 'ازاد', 'ساری', 'محتمل', 'رسمی', 'شخصی', 'فهمیده', 'استدلال', 'این', 'نیازی', '##کمت', '##افرین', 'پرورشی', 'زیر', 'مفاهیمی', 'خطا', 'رویارویی', 'فریب', 'ضروری', 'معنای', 'تشریح', 'سرگرمکننده', '##ى', '##قص', 'اساس', 'موضوع', 'پیگیری', 'اتفاقی', '##مل', 'نوشتن', 'اکادمیک', 'انکار', '##شناسایی', 'میپذیرد', 'دخیل', 'متداول', 'عینی', 'تهیه', 'تصادفی', 'انتظار', 'الیس', 'ادغام', 'مشابه', 'عادلانه', 'نقص', 'معتبر', 'زده', 'جوش', '##خت', 'نقلیه', '##ری', 'گوش', '##امد', 'فراموشی', 'علی', 'دنبال', 'چنین', 'چیزی', '##اق', 'منسوخ', 'عرضه', 'سیال', '##لم', 'نرم', '##گار', 'ترکیبی', 'ساعته', 'صفحه', 'رابطهای', 'انگلیسی', 'همگون', '##ذب', 'تحریر', 'ایراد', 'دانشی', '##ج', 'همگام', '##ار', 'حمل', 'تيوریک', 'حیات', '##فهوم', '##بخش', 'تصمیمگیری', 'ربا', 'بازدهی', 'اثرگذار', 'طبیعت', 'استنتاج', '##ایی', 'مقابله', 'اثر', 'مباحثه', 'مدرسه', 'فیزیکی', 'سطحی', 'تاثیر', 'خواندنی', 'هنری', '##افت', 'رفتن', 'خوانا', 'نشدنی', 'روح', '##ود', 'شمول', '##قل', 'ناسازگار', '-', 'تو', 'تعاملی', 'سنجیده', 'انداز', 'معمول', 'مقاله', 'برانگیز', 'میگیرد', 'فرعی', 'ابتدایی', '##اج', 'داشتنی', 'شناسی', '##حقق', '##یر', 'روزامد', 'ادبیات', '##بل', 'نگارش', 'یکپارچه', 'وسیع', 'بازسازی', 'سازگارتر', 'کرد', 'هندسی', '##تی', 'تامل', 'حذف', 'نظریه', 'نیز', 'فعل', 'وجود', '##کی', 'تولد', 'تنش', 'ایمن', 'درگیری', 'میل', '##ست', 'سنخیت', 'به', 'اقناع', 'غنیسازی', 'اختلاف', 'مختلط', '##ارب', 'شور', 'تحویل', 'کوانتوم', 'کن', 'گذر', 'ثمر', 'متحول', 'عام', '##ابت', 'قضاوت', 'صدق', 'محتوا', 'مییابند', 'در', 'زیاد', 'میدان', 'نااشنایی', 'گنگ', 'مساعد', '##گیر', 'دیگری', 'تحلیلی', 'شفابخش', 'موافقت', 'شکلی', 'شیرین', '##ضم', 'پرکاربرد', 'تلقی', '##زه', 'باورکردنی', 'اصولی', 'چندان', 'صوت', '##مال', 'مفصل', 'مثال', 'جایز', '##يی', '##ء', 'مواجهه', 'معماری', 'اهمیتتر', 'یادگرفتن', 'دانستههای', 'هوش', 'کاری', 'برخورد', '##ايی', 'قسمت', 'هدف', 'جزيیات', 'کپی', 'گرفتن', 'پایدار', '##درمان', 'داستان', 'انسانی', 'نحو', 'قدیمی', 'قبیل', 'رقابتی', 'شود', 'محسوس', 'زمینه', 'چندانی', '##یت', 'تمایز', 'رنگ', '##می', 'چشم', 'همزمان', 'اخذ', '##نت', 'عرفانی', 'تحولی', 'نتیجه', 'الی', 'دانشگاه', 'انجا', 'نفوذ', 'منظوره', 'بنیان', 'چشممان', '##رفته', 'علت', 'قالب', 'مسيله', 'اشکار', 'نفی', 'دلیل', 'اداره', 'مطلوبی', 'مخالفت', 'نوسان', 'عجیبی', 'تالیف', 'بعیدی', 'ناشدنی', 'پذیرد', 'شدهاند', 'موفق', '##کور', '##نش', 'خلاق', 'معادلسازی', 'خبری', 'بازیابی', 'فایده', 'ساخت', 'محیا', 'گفتوگو', 'مثبت', 'ویژه', '##رن', 'میکنند', 'رها', 'ثمربخش', 'تشکیل', 'متوازن', 'مجتمع', 'رعایت', 'راهکار', 'دقیقی', 'بدست', 'انتقالی', 'غرب', 'خورده', 'کارا', 'اختیاری', 'جالبی', '##بخور', '##ام', 'تست', 'مصنوعی', 'دیداری', 'صنعت', 'شبه', 'دانشها', 'گذشته', 'ماهیت', 'معرفت', 'پتروشیمی', 'کارایی', 'وصل', '##فی', 'روان', '##بعدی', '##اوت', '##وم', 'اختیارشان', '##وا', '##برانگیز', 'فناوری', 'جابجا', 'اینگونه', 'مثل', 'تسری', 'معامله', 'تعلیم', '##مند', 'است', 'سوال', 'تجاری', 'قطعی', 'عینیت', 'بیمعنی', 'جبری', 'انجامش', 'صوری', 'یادم', '##ستر', 'معاوضه', 'مانند', 'برخوردار', 'دستی', 'متنوع', '##ستی', '##خ', 'اجرای', 'ولی', 'زمین', 'ادمیزاد', 'رسم', 'تلفیقی', 'فهمید', 'معارف', 'خوردن', 'تهی', 'پذیرفت', 'انتقالات', 'ماهوی', '##شدن', 'تعدیل', 'منسجم', 'تايید', 'خواندن', 'قانونی', 'خیالی', 'شکلگیری', 'محصور', 'کودکان', 'پراکنده', 'فانتزی', 'امدن', 'گونه', 'نهفته', 'نزدیکی', 'یادگیرنده', 'ایده', 'حلشدنی', 'مرز', 'کنند', 'تکلیف', 'براوردن', 'دقیقه', 'دلچسب', 'میپذیرند', 'قضیه', 'انگیزش', 'پر', 'درکش', 'اموخته', 'حالی', 'شناخته', 'سیارات', 'فکرتان', 'محال', 'پایان', 'تسلط', 'برگزاری', '##ول', 'میفهمند', 'امتحانی', 'مجزا', 'اموختنی', 'سامان', 'امن', '##یای', 'ایران', 'فرما', 'ناب', 'سرایت', 'موضوعیت', 'میکند', 'مدرنیته', 'گیرا', 'کاغذ', 'رسانی', 'غیرمرتبط', 'بازار', 'فراگرفتن', 'معلم', 'تمام', 'جزيی', 'اقتباس', 'سوز', 'اندیشه', 'خوان', 'نفت', '##لک', 'پایهای', 'دیگران', '##گ', '##اش', 'استوار', 'ترویج', 'ماشین', '##یزی', 'تداخلی', 'خاصی', 'پسندیده', 'اورده', 'جوانان', 'اهمیتی', 'قبولی', 'زمینهای', 'مجاز', 'حکمت', 'انتخاب', '##عل', 'کنکور', 'جو', 'نفتی', 'متاثر', 'زمان', 'گزینه', 'وگو', 'غریبی', '##حور', '##امی', 'معمولی', '##بب', 'بدن', 'وب', 'برجسته', 'نواور', '##نگ', '##علوم', 'انطباقی', 'بالا', 'عقلی', 'تفریح', 'حدیث', 'خطور', 'اشکال', 'ور', 'بشر', 'مساله', 'سازش', 'مقدماتی', 'همساز', '##بررسی', '##شد', 'غیرمعمول', 'غلط', 'هنر', 'معرفه', '##کار', 'تکوین', 'گذرانده', '##داشته', 'داخل', 'امیختن', 'جامعه', 'تر', 'اختراع', '##جوش', 'معین', 'جدایی', '##ing', '##گزین', 'عبرت', 'روی', '##واب', '##ژ', 'قوی', 'وصال', 'احساس', '##سر', 'غیرعلمی', 'توصیفی', 'میگیرند', 'مطبوع', 'ندارد', 'مشهود', 'نوشته', 'تضمین', 'برنامهنویسی', 'اب', 'تجزیه', '##پ', '##باز', 'متعادل', 'سنگین', '##رمان', '##لاح', 'بیمعنا', 'تهدید', 'چالشی', 'محاسبات', 'تکثیر', 'برخی', 'پرواز', '##وب', 'جلسه', 'فرد', 'راضی', 'رصد', 'التقاط', '##بسته', 'ی', '##صول', 'اموزنده', 'الوصول', 'نامعقول', 'کارگشا', '##l', 'بزرگ', 'ملاحظه', 'بهرهوری', 'باورپذیر', 'نامانوس', 'ساختگی', '##رار', 'تلاقی', 'فوق', 'ستد', 'تفاوتی', 'شوند', '##مر', 'کنیم', 'ظهور', 'قاطی', 'پیمودن', 'مسالهای', 'غیر', 'تنیده', '##وق', 'کودک', 'ساعت', 'ماجرا', '##ایند', 'تخریب', 'هوشمند', 'جذابیت', 'برداری', '##ممکن', 'مبتنی', '##انی', 'دبیرستان', 'حکمی', 'ظاهری', 'همه', 'بهزاد', 'حساب', 'امری', 'حواس', 'اختلاط', 'مسابقه', 'رسان', 'هنگام', 'برنامه', '##ە', 'بعید', 'نور', '##باور', 'دايمی', 'متصل', 'مسیریابی', 'ازادی', 'واکنش', 'بهروز', 'عقلایی', 'دارند', 'تناقضی', 'رویا', 'اشباع', 'احراز', 'تسخیر', 'خاکی', 'دایره', 'اینجا', 'ذهنم', 'ذهنتان', '##داری', 'فرم', 'تعادل', 'فراگرفته', 'میاموزند', '##عى', 'تکنولوژی', 'افزاری', 'مفهومش', 'سهولت', 'کفایت', 'شونده', '##های', 'کارکرد', 'مشاجره', 'ادراک', 'جنس', 'بنیادی', '##امیز', 'خام', 'اعمال', 'بحثی', 'نیازها', '##دادن', 'پاک', 'خلاقانه', 'ماشینی', '##ولی', '##حدود', 'رو', 'کاملی', '##شونده', 'کسی', 'قابلیت', 'فارسی', '##یز', 'حس', '##گونه', 'خطرناک', 'سبک', 'اولیه', 'الکتریسیته', 'روابط', 'اسلامی', 'قانع', 'انعطافپذیر', 'برهم', '##باع', 'روش', 'پا', '##اپذیر', 'دانشگاهها', 'جویی', 'درامیخته', 'تعریفی', 'واضح', 'ساختمان', 'دارا', 'ذهنمان', '##ثی', 'ابهام', '##پذیری', 'مدرک', 'حلاجی', 'تصویب', 'من', 'رسیدگی', 'یک', 'جزییات', 'منظومه', 'تسویه', 'تماشا', 'شعر', 'دانشمندان', 'گمراهی', 'ملموستر', 'عوض', 'سرگرمی', 'تغیر', 'چیز', 'اروپا', 'جا', 'کامپیوتر', 'دانشجو', 'گردیده', 'ساماندهی', 'مسطح', '##وش', '##گیرد', 'مترادف', 'حوصله', '##ترونیک', 'پذیرفتهشده', 'زمینی', '##دسترس', 'نجوم', 'ماندگار', 'پایا', 'خطی', 'کاره', 'ایند', '##یف', 'توام', 'نادرست', 'جدال', 'برد', 'خاطرم', 'مسری', 'اختیارش', 'فعلیت', 'ذهنش', 'متوقف', 'چنته', 'جهانی', 'لذتبخش', 'تن', 'بهینهسازی', 'تنها', '.', 'جامع', 'سادهسازی', 'دخالت', 'جابهجایی', 'احتمال', 'کشور', 'ریز', 'فرق', 'تقریر', '##نا', 'اشامیدنی', 'پی', 'طرفه', 'کتابها', 'غیرمنطقی', 'مشترکی', 'تحقیقاتی', 'تعمق', 'هدایت', 'با', 'فراموش', 'مهمی', 'معما', 'شناور', '##ییر', 'مباحث', 'منفک', 'حدود', 'منعطف', 'السیر', 'اندازه', 'جعل', 'منفی', '##فت', 'کتابخانه', 'نگار', 'دلپذیر', 'یلدا', 'تقویت', 'بازخوانی', 'شکافت', 'تکرارپذیر', 'میلتان', 'شیرینسازی', 'نوین', 'تعویض', 'بافته', 'بفهمیم', 'منافاتی', '##را', 'جهانشمول', 'الزاماور', 'مقطع', 'غیره', 'سادگیها', '##حث', 'گفتنی', 'بکار', 'جز', 'ارزشی', 'نمیشود', 'شاید', 'طی', 'باطل', '##قیاس', 'سینک', 'مذاکرهای', 'فهمی', 'حوزههای', 'برگشت', 'مناقشه', '##اه', '##رق']\n",
            "--------------------------------------------------\n",
            "بسیاری از مباحث علوم غیرطبیعی با استفاده از فیزیک دنیای مادی ابل توجیح نیست و برای یادگیری باید به فلسفه های خاصی رجو کرد .\n",
            "the word  نیست  is true! and occured in number  3\n",
            "--------------------------------------------------\n",
            "بسیاری از مباحث علوم غیرطبیعی با استفاده از فیزیک دنیای مادی ابل توجیح نیست و برای یادگیری باید به فلسفه های خاصی رجو کرد .\n",
            "the word  و  is true! and occured in number  0\n",
            "--------------------------------------------------\n",
            "بسیاری از مباحث علوم غیرطبیعی با استفاده از فیزیک دنیای مادی ابل توجیح نیست و برای یادگیری باید به فلسفه های خاصی رجو کرد .\n",
            "the word  برای  is true! and occured in number  0\n",
            "--------------------------------------------------\n",
            "بسیاری از مباحث علوم غیرطبیعی با استفاده از فیزیک دنیای مادی ابل توجیح نیست و برای یادگیری باید به فلسفه های خاصی رجو کرد .\n",
            "the word  یادگیری  is true! and occured in number  70\n",
            "--------------------------------------------------\n",
            "بسیاری از مباحث علوم غیرطبیعی با استفاده از فیزیک دنیای مادی ابل توجیح نیست و برای یادگیری باید به فلسفه های خاصی رجو کرد .\n",
            "the word  باید  is true! and occured in number  0\n",
            "--------------------------------------------------\n",
            "بسیاری از مباحث علوم غیرطبیعی با استفاده از فیزیک دنیای مادی ابل توجیح نیست و برای یادگیری باید به فلسفه های خاصی رجو کرد .\n",
            "the word  به  is true! and occured in number  1\n",
            "--------------------------------------------------\n",
            "بسیاری از مباحث علوم غیرطبیعی با استفاده از فیزیک دنیای مادی ابل توجیح نیست و برای یادگیری باید به فلسفه های خاصی رجو کرد .\n",
            "the word  فلسفه  is true! and occured in number  114\n",
            "--------------------------------------------------\n",
            "بسیاری از مباحث علوم غیرطبیعی با استفاده از فیزیک دنیای مادی ابل توجیح نیست و برای یادگیری باید به فلسفه های خاصی رجو کرد .\n",
            "the word  های  is true! and occured in number  76\n",
            "--------------------------------------------------\n",
            "بسیاری از مباحث علوم غیرطبیعی با استفاده از فیزیک دنیای مادی ابل توجیح نیست و برای یادگیری باید به فلسفه های خاصی رجو کرد .\n",
            "the word  خاصی  is true! and occured in number  2\n",
            "--------------------------------------------------\n",
            "بسیاری از مباحث علوم غیرطبیعی با استفاده از فیزیک دنیای مادی ابل توجیح نیست و برای یادگیری باید به فلسفه های خاصی رجو کرد .\n",
            "the word  رجو is false!\n",
            " we recommed you to use the word رجوع\n",
            "other predictions:  ['توجه', 'مراجعه', 'فکر', 'رجوع', 'تکیه', 'اتکا', 'نگاه', 'استناد', 'اکتفا', 'بسنده', 'اشاره', 'دقت', 'اعتماد', 'توسل', 'برخورد', 'تمرکز', 'عادت', 'نیاز', 'تمسک', 'قناعت', 'اتکاء', 'گوش', 'اقدام', 'مجهز', 'استفاده', 'عمل', 'ورود', 'رسیدگی', 'مبادرت', 'تاکید', 'پیدا', 'کار', 'اتکای', 'پیروی', 'اعتنا', 'تامل', 'عنایت', 'کمک', 'اندیشید', 'حرکت', 'متوسل', 'توکل', 'پرداخت', 'غلبه', 'صحبت', 'احتیاج', 'سفر', 'اندیشیدن', 'توجهی', 'اهتمام', 'شک', 'پرداختن', 'تدبر', 'همت', 'تجهیز', 'روی', 'تاسی', 'اضافه', 'علاقه', 'جستجو', 'اقتدا', 'ارجاع', 'گرایش', 'تن', 'دسترسی', 'میل', 'اشنا', 'حمله', 'هزینه', 'فکری', 'نظر', 'پشت', 'معطوف', 'وارد', '##اشاره', 'نگاهی', 'دلخوش', 'گذر', 'مطالعه', 'پرداخته', 'خو', 'اندیشه', 'دعوت', 'اذعان', 'کوچ', 'مسافرت', 'دستیابی', 'اعتراف', 'شروع', 'تلاش', 'گذار', 'سر', 'تبعیت', 'گیر', 'صرف', 'تحصیل', 'زندگی', 'جستوجو', 'نگاهمان', 'مهاجرت', 'رفتار', 'مشورت', 'تمرین', 'تفکر', 'متمسک', 'علم', 'شنا', 'رو', 'سرمایهگذاری', 'استفاه', 'افتخار', 'پرواز', 'مراجه', 'نگرش', 'نفوذ', 'برنامهریزی', 'استفاد', 'دنبال', 'پی', 'بازی', 'وابستگی', 'وقوف', 'قیام', 'توجهای', 'سیر', 'ایمان', 'اندیشیده', 'اطمینان', 'حساب', 'تعمق', 'کفایت', 'دوری', 'اعمال', 'شرکت', 'تزریق', 'اصرار', 'دل', 'باور', 'اعتقاد', 'اعتنایی', 'فکرکردن', 'اجتناب', 'فعالیت', 'پافشاری', 'متکی', 'وابسته', 'تحقیق', 'نگاهشان', 'بیتوجهی', 'دستی', 'نزدیک', 'دست', 'عزیمت', 'پژوهش', 'ازدواج', 'اعتناء', 'بها', 'اشارهای', 'اعتراض', 'یاد', 'پیشرفت', 'سفارش', 'رجعت', 'حسادت', 'التفات', 'استقاده', 'اغاز', 'محدود', 'تغییر', 'رغبت', 'تبدیل', 'وصل', 'قانع', 'هدایت', 'رسوخ', 'بنا', 'استشهاد', 'پا', 'تسلط', 'پرهیز', 'بیاندیشند', 'احترام', 'بحث', 'تربیت', 'مسلح', 'اشتغال', 'تعقل', 'اقرار', 'صعود', 'کسب', 'بیندیشند', 'سويیچ', 'بیندیشید', 'بیندیشیم', 'نیازمندیم', 'تدریس', 'ایراد', 'تجدیدنظر', 'رحم', 'رخنه', 'نیازمند', 'طی', 'صبر', 'معاشرت', 'ویژهای', 'برسیم', 'نگاهش', 'تقسیم', 'اجتهاد', 'فکرمی', 'بررسی', 'توصیه', 'منحصر', 'پای', 'مخصوص', 'لحاظ', 'متصل', 'سقوط', 'جذب', 'بیاعتنایی', 'مربوط', 'بازنگری', 'مذاکره', 'تجاوز', 'گفتگو', 'انس', 'نزدیکی', 'محتاج', 'توافق', 'ویژه', 'اشنایی', 'تدوین', 'نگا', 'احتیاط', 'خطور', 'جسارت', 'التزام', 'وسواس', 'پیشه', 'بیندیشد', 'سرکشی', 'پایبندی', 'تکلم', 'رویکرد', 'برسی', 'خرج', 'موسوم', 'تنوعبخشی', 'پناه', 'اتکال', 'برخوردم', 'تعریف', 'شاره', 'انتخاب', 'تاملی', 'استخاره', 'نیازمندی', 'طراحی', 'نظارت', 'تمایل', 'بازاندیشی', 'دخالت', 'انتقاد', 'صرفنظر', 'لشکرکشی', 'یافت', 'متمرکز', 'نیل', 'درنگ', 'تنوع', 'ممارست', 'اشار', 'بیاندیشیم', 'تغذیه', 'سعی', 'پیشروی', 'نقلمکان', 'ابداع', 'نقل', 'الزام', 'دستاندازی', 'واگذار', 'تصریح', 'اعتنای', 'بهرهگیری', 'بپرداز', 'نیمنگاهی', '##توجه', 'امر', 'رفتوامد', 'ملتزم', 'مبرم', 'سری', 'ارايه', 'تبدیلش', 'اصابت', 'ایجاد', 'رشد', 'تالیف', 'گفتوگو', 'رسی', 'مسامحه', 'برخور', 'مزین', 'کلیک', 'بیندی', 'نیندیشند', 'بروزرسانی', 'ورزش', 'مقابله', 'مداومت', 'حساسیت', 'اشاراتی', 'بپردازیم', 'منظور', 'تمکین', 'تعهد', 'تظاهر', 'بربخ', 'تقسیمبندی', 'کمتوجهی', 'کاوش', 'هجرت', 'پایبند', 'الگوبرداری', 'پیبرد', 'ختم', 'تبدیلی', 'دستیابى', 'جلب', 'منوط', 'غور', 'چشمپوشی', 'سروکار', 'نايل', 'نگرشی', 'مصرف', 'بستگی', 'اشارت', 'نگاهت', 'مبارزه', 'شلیک', 'پاسخ', 'موکول', 'مسلط', 'مشاوره', 'عشق', 'تصمیمگیری', 'سلام', 'ترجمه', 'مبتلا', 'علاقهمند', 'تجربه', 'عروج', 'مقید', 'تقلید', 'دچار', 'اپدیت', 'دسترسى', 'بتوقیت', 'عالمان', 'مجهزند', 'نمیاندیش', 'استدلال', 'محبت', 'تنظیم', 'شکایت', 'اتصال', 'تهاجم', 'شباهت', 'اعزام', 'رسیدن', 'پیوست', 'اقتباس', 'پید', 'همراه', '##عه', 'همذاتپنداری', 'اختصاص', 'سپری', 'احاطه', 'میپرداختیم', 'اشراف', 'تردید', 'اتخاذ', 'اعطا', 'استقبال', 'دستدرازی', 'اقبال', 'میاندیشید', 'عبور', 'استراحت', 'نگاهى', 'جست', 'مدد', 'نظم', 'اگاه', 'مشارکت', 'اهمیت', 'رسیدگى', 'منتهی', 'نیندی', 'اندیش', 'خلاقیت', 'برپا', 'دعوتش', 'چارهاندیشی', 'اراده', 'شرکتها', 'مبتنی', 'نگریستن', 'نیز', 'کنکاش', 'عرق', 'اجماع', 'تفال', 'تعرض', 'توهین', 'سرایت', 'اهدا', 'تتبع', 'ابت', '##دسترسی', 'تعدی', 'اسفاده', 'وتوجه', 'جمود', 'برخوردند', 'پرش', 'تلمذ', 'عرضه', 'اطلاق', 'اندیشیدهاند', 'مداخله', 'لاگین', 'اجبار', 'حفر', 'بروز', 'حواس', 'الوصول', 'خدمت', 'ثبتنام', '##راجعه', 'd', 'دستیافتن', 'برمیخوریم', 'سوییچ', 'همکاری', 'باز', 'عالم', 'استعانت', 'علاقهی', 'تفاوت', 'شیفت', 'تدبیر', 'چشم', 'رانندگی', 'تصور', 'برخورده', 'حصول', 'بیاندیشید', 'برداشت', 'خود', 'کامران', 'هدایتش', 'مشغولی', 'طبی', 'تولید', 'مبذول', 'دستیافت', 'منقش', 'توجهشان', 'الات', 'بال', 'تلفیق', 'تعاون', 'نگاهکردن', 'منتقل', 'مطرح', 'ثابت', 'بپردازید', '##فکر', 'واکنش', 'مداقه', 'حفاری', 'هم', 'ضمیمه', 'مراجعهی', 'تطبیق', 'فکرها', 'اشنايی', 'بیان', 'اشتهار', 'مکاتبه', 'کنجکاوی', 'کمکشان', 'رسیدید', 'نگاهتان', 'تفقه', 'صبحت', 'حوصله', '##حرکت', 'دنیال', 'خلق', 'بیاندیشد', 'سوال', 'ارایه', 'مرغداریهای', 'پرسوجو', 'مجید', 'غفلت', 'فروگذار', 'اغشته', 'مبرمی', 'مروری', 'رویاوردن', 'پر', 'ظهور', 'تفسیر', 'ادای', 'بیاهمیتی', 'حکومت', '##نیاز', 'اعتصام', 'وابستهای', 'جهانبینی', 'سوایپ', 'مراجعت', 'اشارههایی', 'خاصی', 'الوده', 'کمکم', 'کامپایل', 'راجع', 'گام', 'دریافت', 'مواجه', 'مند', 'درگیر', 'نوج', 'میاندیشند', 'ایدهپردازی', 'ترقی', 'برمیخ', 'خوداتکایی', 'بیاندیش', 'اشارهی', 'علاق', 'ژرف', 'خیره', 'موسم', 'پشتش', 'پشتیبانی', 'میاندیشد', 'ترکیب', 'گوشدادن', 'مناظره', 'بیرغبتی', 'غواصی', 'اعتیاد', 'وادار', 'اشارات', 'ملبس', 'طبقه', 'اهانت', 'یاری', 'نیازمندند', 'استخدام', 'ربط', 'نیازها', 'نیازی', 'نگریسته', 'خیال', 'کاری', 'وضع', 'للو', 'متمایل', 'برخوردیم', 'واریز', 'متفکران', 'گردش', 'فوت', 'نسب', 'وفاق', 'اختیار', 'ارایش', 'جهت', 'ابرسانی', 'تعلیم', 'روبرو', 'توجهتان', 'تقدیم', 'توجهى', 'سرگرم', '##فاده', 'منجر', 'تعبد', 'کلاسیک', 'مباهات', 'صادر', 'هجمه', 'اشارههای', 'مینا', 'التماس', 'رهنمون', 'دلبستگی', 'مبتلای', 'تجویز', 'مقاومت', 'والز', 'ابتلا', 'بروی', '##عمل', 'گرایشی', 'سختگیری', 'نظری', 'و', 'میدان', 'خمین', 'احساس', 'برقرار', 'مرتبط', 'ملزم', 'والت', '##ی', 'تغیر', 'تیراندازی', 'غرینتش', 'ملحق', 'مکان', 'اجرا', 'رسیدگیهای', 'تعامل', 'مدیریت', '##پرداخت', 'زمان', 'جه', 'برگزار', 'تشویق', '##وجه', 'اگاهی', 'مساعدت', 'تاسیس', 'چاشنی', 'تربیتی', 'علاقهمندی', 'سرچ', 'اختراع', 'میاندیشیم', 'اندیشی', 'تشبیه', 'افراط', 'محول', 'رعایت', '##مرکز', 'کوشش', 'اصولی', 'اظهارنظر', 'الهام', 'توصل', 'داورى', 'توجهمان', 'ترتیب', 'طبع', 'ملاحظه', 'پرد', 'ریشه', 'متصف', 'که', 'عنایتی', 'صورت', 'درکشان', 'قدم', 'خودداری', 'منصوب', 'فرق', 'داری', 'متخصص', 'اشکال', 'دعا', 'لطف', 'نمیاندیشد', 'بچگی', 'بهرهبرداری', 'مخلوط', 'استوار', 'معرفت', 'اتخاد', 'عمق', 'تهیه', 'گره', 'روش', 'نظاره', 'نگریست', 'وزن', '##استفاده', 'تمرکزی', 'تقید', 'سپرده', 'ریاضیات', 'میگر', 'توجهات', '##کمک', 'رسید', 'نیازش', 'کندوکاو', 'سرشان', 'استنباط', 'همتی', 'حمایت', 'معتقد', 'رفتن', 'خلاصه', 'مهندسی', 'اندره', 'امتیازدهی', 'نگرشها', 'بینش', 'چنگ', 'داوری', 'باید', 'سلوک', 'on', 'نگارش', 'مختص', 'مربیگری', 'دستهبندی', 'سوءظن', 'استعمال', 'گرفتار', 'تسامح', 'بهرهبردن', 'قرض', 'پیگیری', 'دقیق', 'بدن', 'برخوردار', 'امید', 'نیم', 'احتیاجی', '##افزاری', 'سپردهگذاری', 'تعرف', 'اساسی', 'رویاپردازی', 'استعداد', 'دلالت', 'تندا', 'پیدایش', 'ارتباط', 'الذ', 'وقت', 'التف', 'استغاثه', 'سفری', 'ونیاز', 'خورد', 'فلاسفه', 'بازگشت', 'پرداختم', 'بدل', '##نگاه', 'میاندیش', 'فرهنگ', 'رواندرمانی', 'نسبت', 'غلو', 'برسم', 'زیادی', 'علاقمند', 'مشغول', 'ظلم', 'هوش', 'تب', 'رند', 'بر', 'خودشناسی', 'گریه', 'سوار', 'اشارهشده', 'روى', 'روند', 'تخلص', 'مبعوث', 'ون', 'دستوپنجه', 'پیوسته', 'تعصب', 'عرفان', 'برنامهنویسی', 'روشمند', 'راغب', 'خریداری', 'نظریهپردازی', 'کوتاهی', '##پیدا', 'تعیین', 'ریاضی', 'دچارش', 'دنبالشان', 'اعتبار', 'میپرداخته', 'دفت', 'پایهگذاری', 'نگاههای', 'واردشدن', 'شرک', 'تناسب', 'تفاهم', 'اراسته', 'دیدگاه', 'موافقت', 'نپرداخت', 'الودگی', 'مینگریست', 'توجهش', 'ذکر', 'بنگرید', 'حمل', 'بپردازند', 'کم', 'خاص', 'حکم', 'میرسیم', 'پیشرفته', 'نگاهم', 'دقتی', 'بالع', 'جلوس', 'طبقهبندی', 'مدارس', 'چشمداشت', 'سرک', 'تلفیقی', 'گاه', 'شخصی', 'سرش', 'التوصل', 'دفاع', 'بهاد', 'چکار', 'متخلق', 'سرمایه', 'جهتدهی', 'میپردازیم', 'نگاهها', 'علاقة', 'چه', 'عقلانیت', 'برمیخورد', 'مشق', 'مدونی', 'پیله', 'منقوش', 'بگر', 'توریسم', 'منتسب', 'ذهن', 'کیف', 'عمیقتری', 'هنر', 'وفاداری', 'پایهریزی', 'سرت', 'پاسخدهی', 'بنگرد', 'اماد', 'امدوشد', 'شکلدهی', 'تخلق', 'حملە', 'بی', 'ان', 'واقف', 'انقلاب', 'توح', 'رویشان', 'زیست', 'اشتیاق', 'گذشت', 'طریق', 'نشت', 'عجله', 'بور', 'درای', 'مو', 'سلامی', 'دایر', 'جواب', 'واردش', 'پاس', 'کشورها', 'بادقت', 'ملاقات', 'المت', 'نظرد', 'اشاه', 'القیام', 'عنوان', 'را', 'هزینهی', 'دلبسته', 'تنفس', 'پارس', 'دشت', 'امیخته', 'فرار', 'نیازمان', 'فرض', 'عطش', 'برمیخورند', 'نفت', 'توجهها', 'مهارت', 'الگوگیری', 'لبیک', 'دانگرید', '##کلیک', 'هجوم', 'عمیق', 'واقفان', 'نزدیکتر', 'انها', 'اضافة', 'پسماندها', 'چارهجویی', 'قضاوت', 'مانوس', '##۸۶', 'سوبسید', 'متصلب', 'امتحان', 'لشگرکشی', 'اندیشهای', 'کانونی', 'رقابت', '##جهز', 'بصیرت', 'شرط', 'رسیدهاند', 'اف', 'جهتگیری', 'حل', 'نوجوانان', 'فاد', 'گروید', 'پرو', 'یازی', 'گمارده', 'شراکت', 'بچسب', 'اهمال', 'دیر', 'نیازشان', 'گذرای', 'مسافرتهای', 'بندی', 'رم', 'علمیه', 'زل', 'مبدل', 'وحیانی', 'گذران', 'پنجگانه', 'ریزی', 'وافر', 'فلکه', 'وابستگیها', 'متنوع', 'اشنای', 'قیمتگذاری', 'روم', 'مشخص', '##نگری', 'ريیسیان', 'نامهنگاری', 'رشتە', 'محدودش', 'بخصوصی', 'موضعگیری', 'مخالفت', 'ارفاق', 'گردن', 'فکرى', 'اغماض', 'وجو', 'گجتها', 'وصلت', 'ودیعهگذاری', 'خوددارى', 'گذاری', 'درست', 'نقب', 'پین', 'دیدمان', 'کتاب', 'فلسفی', 'دقتهای', 'اقامه', 'تفهیم', 'داد', 'عزم', 'رهایشان', 'مدارا', 'میپرداخت', 'فیزیک', 'توجهاند', 'سرعت', 'عدول', 'عطاء', 'صوفی', 'نیار', 'عقیده', 'نااشنایی', 'تردد', 'مبنای', 'عملهای', 'فوکوس', 'ینظر', 'برخورداری', 'خوش', 'سرمایهگذاریهایی', 'عمیقی', 'تبحر', 'مکر', 'دخیل', 'باتوجه', 'شهر', 'تفاخر', '##روی', 'مد', 'جهان', 'وثوق', 'الرژی', 'الن', 'بپردازم', 'پیرایه', 'نواوری', 'دعوتم', 'نقد', 'تماشایش', 'چشمد', 'مدون', 'تخیل', 'یر', 'موشکافی', 'ماهر', '،', 'بیتوجه', 'مادری', 'افت', 'مرور', 'پردازش', 'کاسبی', 'نیازهای', 'احتراز', 'نهفته', 'پرداز', 'میپردازند', 'دیکشنری', 'برگردیم', 'اولویت', 'وجود', 'قمار', 'حاصل', 'تعریفش', 'متبحر', 'وابستهاند', 'بشر', 'شرکتهای', 'اشت', 'پرسش', 'یافته', 'کشید', 'تف', 'غارها', 'اتیلن', 'ساماندهی', 'a', 'بودجهبندی', 'ترینیداد', 'نایل', 'دانش', 'اکتسابی', 'معتادین', 'تجزیه', 'نوسان', 'روبهرو', 'پیروى', 'بخشبندی', 'ریزیهایی', '۸۳۳', 'توجی', 'درک', 'بدوی', 'بروند', 'کمکش', 'برسند', 'استفادهی', 'فصل', 'تعبیر', 'داشت', 'هویت', 'جمع', 'وافی', 'طمع', 'پد', 'نوردهی', 'باورد', 'جبر', 'امعان', 'سازماندهی', 'توحید', 'تبدل', 'بازبینی', 'متنوعی', 'حذر', 'گرویدن', 'گازرسانی', 'لارنس', 'داز', 'صنعتگری', 'جزییتر', 'مطلب', 'کودکی', 'بیشتری', 'گرایی', 'لزوم', 'اهداء', 'معرفی', 'تجارت', 'درغ', 'شهرکتاب', 'دیرباز', 'فضلای', 'مکاتب', '##رسی', 'قبول', 'کلی', 'ذهنمان', 'قايلا', 'دنیا', 'بهروزرسانی', 'شمشک', 'محتوا', 'سرز', 'وگذار', 'تقدم', 'یا', 'میاندیشیدم', 'سرهم', 'نزول', 'سخنرانی', 'پیوستن', 'اعتقادی', 'حواست', 'طرحریزی', 'پیشنهاد', 'هزاره', '##سم', 'نپردازیم', 'پى', 'صرفهجویی', 'مته', 'بهادار', 'تنزل', 'تاویل', 'انرژیها', 'بدهی', 'رایزنی', 'رسند', '##دستی', 'بااشاره', 'تغییراتی', 'گشودگی', 'گمان', 'کرات', 'عملکردن', 'افاقه', '##اعتماد', 'مختلف', 'السیر', 'نیازى', 'ماشینالات', 'حسابگری', 'کشیشان', 'میرسی', 'التا', 'رسیده', 'یابی', 'گراییده', 'علوم', 'طلب', 'افراد', 'انگشت', 'کدنویسی', 'نزدیکشدن', 'تخطی', 'with', 'ورورد', 'ترزیق', 'رویم', 'جذبش', '##ت', 'خاصتری', 'کمکی', 'درازی', 'برنامهسازی', 'دن', 'برطرف', 'سود', 'دستیافته', 'اطراق', 'پول', 'شبزندهداری', 'مجاهده', 'هاس', 'بورسیه', 'سروکله', 'حسودی', 'نیگ', 'خیاطی', 'جلوگیری', 'فراوانی', 'access', 'مولف', 'تایل', 'استاندارد', 'استخراج', 'ریز', 'حسب', 'متابولیزه', 'and', 'ویار', 'مخصوصی', 'میپرداز', 'همنشینی', 'تمهید', 'مجذوب', 'تحصیلی', 'رشته', 'مواجهه', 'راهیابی', 'غلتیدن', 'ازع', 'تشکیک', 'عمر', 'بچسبید', 'ايتلاف', 'رابطه', 'محاسبه', 'چاره', 'رنگرز', 'فقه', 'استمداد', 'مجاب', 'اپگرید', 'سرفصلها', 'استغفار', 'بروس', 'چرخش', 'الاشارة', 'مدرسه', 'گرایشها', 'سطحینگری', 'حمام', 'هوشی', 'اخذ', 'وعمل', '##وارد', 'بورسیههای', 'پایمردی', 'کارمی', 'روز', 'رقبت', 'صدق', 'مراجعات', 'شهرنشینی', 'نواندیشی', 'میاندیشیدند', 'خوراک', 'سوارشدن', 'ملحوظ', 'لویی', 'تجربهاش', 'انفاق', 'وسیله', 'پاسخگویی', 'خوریم', '##تهیه', 'تجدید', 'رای', 'دانشگاهها', 'قانونگذاری', 'تضرع', 'واشارت', 'النظر', '##۷۴', 'شکل', 'تعلقات', 'ادنا', 'سجده', 'پایبندند', 'اجمالی', 'مختصری', 'اسکی', 'رکن', 'گمارد', 'نمیپرداخت', 'تسلیمی', 'سلفچگان', 'وسایل', 'نشست', 'برسید', 'طواف', 'درنگی', 'بالغ', 'زوم', '&', 'کاروانها', 'دلیل', 'سراغ', 'قايل', 'داشته', 'مشهور', 'fit', 'ناخنک', 'کاو', '##و', 'پرداختهاند', 'مقدمه', 'ملقب', 'فیلسوفان', 'رومی', 'الحصول', 'جستجویی', 'بنگریم', 'برویم', 'دستاویز', 'همفکری', 'افزودنی', 'المط', 'انجام', 'رسیدم', 'رهایش', 'ارزشگذاری', 'انتخابش', 'کاربرد', 'اجاره', 'برین', '##صحبت', 'عطا', 'پیب', 'الحاق', 'بهرهمند', 'خوشبینی', 'تقرب', 'نپرداختن', 'مارسی', 'تغییرات', 'مراجعههای', 'دادرسی', 'کوانتومی', 'ورد', 'ادا', 'الاعت', 'دایناسور', 'تلاقی', 'کهکشان', 'مگاپیکسلی', 'معلم', 'رها', '##ایل', 'علاقمندی', 'لشکر', 'خاطرنشان', 'کشورهای', 'نگری', 'درز', '۲۴', 'nfl', 'بورزید', 'متقاعد', '##ودة', 'میروی', 'اتن', '##طرق', 'متابعت', 'تخصص', 'غنی', 'پرداختند', 'تعلق', 'تیپ', 'مقاوم', 'دستوپا', 'میبایست', 'حواله', 'کانتینر', 'اداره', 'دامداریهای', 'متون', 'همواره', 'گوشمان', 'منظم', 'بودجه', 'جهانبخش', 'اموزش', 'گرفتاری', 'حتما', 'تسلطش', 'دلب', 'مالکیت', 'تعظیم', 'نغ', 'وفا', 'بری', 'میرفتیم', 'تحقیقات', 'الزامی', 'بومی', 'یوروست', 'ابزارالات', 'المحیط', '##صل', 'فراهم', 'ستم', 'اعتباربخشی', 'امساک', 'بستر', 'کلانی', 'جراحی', 'مباحثه', 'عقبنشینی', 'عطف', 'فراگیری', 'علمی', 'زایمان', 'باورمندی', 'الامم', 'یقین', 'اراستگی', 'بگردند', 'ارزشیابی', 'تحقیقی', 'تکنیک', 'تواتر', 'خیالپردازی', 'پراخت', 'میپرداختم', 'کارها', 'بهره', '##ه', 'قلم', 'پاى', 'بازش', 'دنیای', 'تفکرهای', 'عیار', 'معلمان', '##ش', 'ایندهنگری', 'سماجت', 'مجادله', 'کارگری', 'پاسخهایی', 'کامپیوتری', 'اختصاصی', 'رضایت', 'جرات', 'خویش', 'عکاسی', 'پیادهروی', 'رویکردها', 'تکفیری', 'توقف', 'مواصلاتی', 'تحول', 'van', 'مدخلی', 'جستوجویی', 'راه', 'مىپرداز', 'حاجة', 'تکلیف', 'تحرک', 'تجهیزات', 'اموزشدیده', 'میرسیدم', 'کنترل', 'مقاوت', 'نپرداخته', 'اتکایی', 'پیبردن', 'پردهبرداری', 'تشیر', 'رقصنده', 'نضج', 'مشاجره', 'دقیقی', 'مماشات']\n",
            "--------------------------------------------------\n",
            "بسیاری از مباحث علوم غیرطبیعی با استفاده از فیزیک دنیای مادی ابل توجیح نیست و برای یادگیری باید به فلسفه های خاصی رجو کرد .\n",
            "the word  کرد  is true! and occured in number  1\n",
            "--------------------------------------------------\n",
            "بسیاری از مباحث علوم غیرطبیعی با استفاده از فیزیک دنیای مادی ابل توجیح نیست و برای یادگیری باید به فلسفه های خاصی رجو کرد .\n",
            "the word  .  is true! and occured in number  0\n",
            "--------------------------------------------------\n"
          ]
        }
      ]
    },
    {
      "cell_type": "markdown",
      "source": [
        "## Improvment of the previous approach!"
      ],
      "metadata": {
        "id": "9IVVaUWUayfT"
      }
    },
    {
      "cell_type": "markdown",
      "source": [
        "Here we use the dataset of political sentences which was preprocessed previously. We used the first 1 hundred sentencess in the dataset to train model. For each word, we deleted one alphabet to created a misspelled word and left the rest of the sentence the same. After that, we used the bert model to find the potential words that could be replaced with the misspelled word. Finally, we used the score and editing distance of each word and its score to train our MLP(multi layer perceptron) model. The accuracy of our model is 82% "
      ],
      "metadata": {
        "id": "8lwM-qk9a5VP"
      }
    },
    {
      "cell_type": "code",
      "source": [
        "from random import shuffle\n",
        "def process_mins(min_dist_words, min_edit_distances, min_dist_scores, correct_word, preds_str, edit_distances, preds_scores):\n",
        "  data = []\n",
        "  words = []\n",
        "  output = 0\n",
        "  if correct_word in preds_str:\n",
        "    correct_ind = preds_str.index(correct_word)\n",
        "    data.append((edit_distances[correct_ind], preds_scores[correct_ind]))\n",
        "    words.append(correct_word)\n",
        "  else:\n",
        "    return None, -1, None\n",
        "  for i in range(5):\n",
        "    if(min_dist_words[i] != correct_word):\n",
        "      data.append((min_edit_distances[i], min_dist_scores[i]))\n",
        "      words.append(min_dist_words[i])\n",
        "      if len(data) == 5:\n",
        "        break\n",
        "  temp = list(range(5))\n",
        "  shuffle(temp)\n",
        "  final_data = []\n",
        "  final_words = []\n",
        "  for ind, i in enumerate(temp):\n",
        "    final_data.append(data[i])\n",
        "    final_words.append(words[i])\n",
        "    if i == 0:\n",
        "      output = ind\n",
        "  return final_data, output, final_words\n",
        "  \n"
      ],
      "metadata": {
        "id": "Sa-BCASPkisp"
      },
      "execution_count": null,
      "outputs": []
    },
    {
      "cell_type": "code",
      "source": [
        "def create_variation(word: str):\n",
        "  rand = random.randint(0, len(word)-1)\n",
        "  variation = word[:rand] + word[rand+1:]\n",
        "  return variation\n",
        "\n",
        "def get_probabilities(text, model, max_threshold = 1500):\n",
        "  text_arr = text.split()\n",
        "  results = []\n",
        "  outputs = []\n",
        "  for ind in range(len(text_arr)):\n",
        "    correct_word = text_arr[ind]\n",
        "    variate = create_variation(correct_word)\n",
        "    resp, input_str = tester(text, ind)\n",
        "    print(resp, variate)\n",
        "    if resp[\"raw\"] == \"ها\":\n",
        "      continue\n",
        "    tokenized = tokenizer.tokenize(input_str)\n",
        "    attached = attach(tokenized)\n",
        "    preds = model(attached, top_k = max_threshold)\n",
        "    preds_scores = [pred[\"score\"] for pred in preds]\n",
        "    preds_str = [pred[\"token_str\"] for pred in preds]\n",
        "    edit_distances = [gensim.similarities.fastss.editdist(variate, pred_str) for pred_str in preds_str]\n",
        "    min_dist_words = np.array(preds_str)[np.array(edit_distances).argsort()[:5]]\n",
        "    min_dist_scores = np.array(preds_scores)[np.array(edit_distances).argsort()[:5]]\n",
        "    min_edit_distances = np.array(edit_distances)[np.array(edit_distances).argsort()[:5]]\n",
        "    print(\"the nearest: \", min_dist_words[0])\n",
        "    data, output, words = process_mins(min_dist_words, min_edit_distances, min_dist_scores, correct_word, preds_str, edit_distances, preds_scores)\n",
        "    if output != -1:\n",
        "      results.append(data)\n",
        "      outputs.append(output)\n",
        "    print(\"-\"*30)\n",
        "  return results, outputs\n"
      ],
      "metadata": {
        "id": "Guziz5vDiDZx"
      },
      "execution_count": null,
      "outputs": []
    },
    {
      "cell_type": "code",
      "source": [
        "def create_dataset(hundred_sent, model, max_threshold=1500):\n",
        "  x = []\n",
        "  y = []\n",
        "  for sent in hundred_sent:\n",
        "    sent = normalize_input(sent)\n",
        "    results, outputs = get_probabilities(sent, model, max_threshold)\n",
        "    x = x + results\n",
        "    y = y + outputs\n",
        "\n",
        "  return np.array(x), np.array(y)"
      ],
      "metadata": {
        "id": "FrNsyaG2zFGu"
      },
      "execution_count": null,
      "outputs": []
    },
    {
      "cell_type": "code",
      "source": [
        "from google.colab import drive\n",
        "drive.mount('/content/drive')"
      ],
      "metadata": {
        "colab": {
          "base_uri": "https://localhost:8080/"
        },
        "id": "ZzZedOaOv879",
        "outputId": "10432089-79cf-411e-cecd-3c216fb179b6"
      },
      "execution_count": null,
      "outputs": [
        {
          "output_type": "stream",
          "name": "stdout",
          "text": [
            "Mounted at /content/drive\n"
          ]
        }
      ]
    },
    {
      "cell_type": "code",
      "source": [
        "from tqdm.notebook import tqdm\n",
        "path_to_data = \"/content/drive/MyDrive/Arshad/NLP/HW3-TransformersDataset/\"\n",
        "sports_tokens_repeatitive = [x.strip().split() for x in tqdm(codecs.open(path_to_data + 'sports_tokenized.txt','rU','utf-8').readlines())]\n",
        "print(sports_tokens_repeatitive[:100])"
      ],
      "metadata": {
        "colab": {
          "base_uri": "https://localhost:8080/",
          "height": 86,
          "referenced_widgets": [
            "dd45a77731d24f80989a165854fc9ac6",
            "1036ffa29b6946419b35f28592ed01cc",
            "f0941b6bce3f4a728c6406ff58421aad",
            "21406ae1719d4857babcc469540b5cee",
            "df41f0ed6ff340dfab15a83c8a2cd778",
            "35255f289a5e480fb72da20d3178c7c2",
            "9d0bb5c93aa94a0ca28d1a406ac08fde",
            "673a14ae930a4a4eb576ef71f5930943",
            "9d85a3feeba5463ebaf58877356577cc",
            "d1cb9e380def49048e25489b33a9a78b",
            "89decce8598d453dabaa7604fd379a16"
          ]
        },
        "id": "fbrsJCc8vyvr",
        "outputId": "0753760d-b40a-4803-c7b7-7cd050c8d707"
      },
      "execution_count": null,
      "outputs": [
        {
          "output_type": "display_data",
          "data": {
            "text/plain": [
              "  0%|          | 0/3277026 [00:00<?, ?it/s]"
            ],
            "application/vnd.jupyter.widget-view+json": {
              "version_major": 2,
              "version_minor": 0,
              "model_id": "dd45a77731d24f80989a165854fc9ac6"
            }
          },
          "metadata": {}
        },
        {
          "output_type": "stream",
          "name": "stdout",
          "text": [
            "[['شاید', 'کمتر\\u200cکسی', 'تصور', 'می\\u200cکرد', 'روزی', 'رابطه', 'ایران', 'با', 'جمهوری', 'آذربایجان', 'از', 'لحاظ', 'دیپلماتیک', 'شکرآب', 'شود', '؛', 'اگرچه', 'هنوز', 'چنین', 'موضوعی', 'به\\u200cصورت', 'قطعی', 'رخ', 'نداده', 'ولی', 'نشانه\\u200cهایی', 'در', 'میان', 'است', 'که', 'به', 'نظر', 'می\\u200cرسد', 'رفته\\u200cرفته', 'چنین', 'شود', '.'], ['شروعش', 'فعلا', 'از', 'سوی', 'رئیس\\u200cجمهور', 'آذربایجان', 'بوده_است', '؛', 'الهام', 'علی\\u200cاف', '،', 'اخیرا', 'در', 'گفت\\u200cوگو', 'با', 'یک', 'رسانه', 'ترکیه\\u200cای', 'درباره', 'ادعای', 'ورود', '۶۰', 'کامیون', 'ایرانی', 'به', 'منطقه', 'قره\\u200cباغ', 'در', 'تابستان', 'امسال', 'گفته_است', 'که', '«', 'این', 'اولین', 'باری', 'نیست', 'که', 'کامیون\\u200cهای', 'ایرانی', 'به\\u200cصورت', 'غیرقانونی', 'به', 'منطقه', 'قره\\u200cباغ', 'سفر', 'می\\u200cکنند', '.'], ['این', 'چیزی', 'است', 'که', 'به\\u200cطور', 'مداوم', 'در', 'جریان', 'دوران', 'اشغال', '[', 'قره\\u200cباغ', 'توسط', 'ارمنستان', ']', 'رخ', 'می\\u200cداده', 'است', '»', '.'], ['او', 'گفته_است', ':', '«', 'ما', 'اطلاعاتی', 'داشتیم', 'اما', 'قطعا', 'مثل', 'زمان', 'حال', '،', 'اطلاعاتمان', 'واضح', 'نبود', '.'], ['با', 'توجه', 'به', 'این', 'موضوع', '،', 'ما', 'از', 'کانال\\u200cهای', 'مختلف', 'نارضایتی', 'خود', 'را', 'از', 'عبور', 'غیرقانونی', 'ابراز', 'داشتیم', 'اما', 'این', 'رویه', 'ادامه', 'داشت', '»', '.'], ['علی\\u200cاف', 'همچنین', 'گفت', 'در\\u200cصورتی\\u200cکه', 'ورود', 'کامیون\\u200cهای', 'ایران', 'به', 'قره\\u200cباغ', 'ادامه', 'پیدا', 'کند', '،', 'باید', 'مالیات', 'پرداخت', 'کنند', '.'], ['علی\\u200cاف', 'همچنین', 'درباره', 'رزمایش\\u200c', 'نظامی', 'ایران', 'در', 'مرز', 'جمهوری', 'آذربایجان', 'اظهارنظر', 'کرد', 'و', 'گفت', ':', '«', 'این', 'یک', 'رویداد', 'بسیار', 'تعجب\\u200cآور', 'است', '.'], ['هر', 'کشوری', 'می\\u200cتواند', 'هرگونه', 'رزمایش', 'نظامی', 'را', 'در', 'قلمرو', 'خود', 'انجام', 'دهد', '.'], ['این', 'حق', 'حاکمیتی', 'آنها\\u200cست', 'اما', 'چرا', 'حالا', 'و', 'چرا', 'در', 'مرز', 'ما', '؟'], ['چرا', 'زمانی', 'که', 'ارامنه', 'در', 'جبرائیل', '،', 'فضولی', 'و', 'زنگلان', 'بودند', '،', 'چنین', 'رزمایش\\u200cهایی', 'در', 'کار', 'نبود', '؟'], ['چرا', 'پس', 'از', 'آزادسازی', 'این', 'زمین\\u200cها', 'پس', 'از', '۳۰', 'سال', 'اشغال', 'برگزار', 'می\\u200cشود', '؟', '»', '.'], ['این', 'اظهارات', 'با', 'واکنش', 'مقام\\u200cهای', 'ایرانی', 'روبه\\u200cرو', 'شده_است', '.'], ['سعید', 'خطیب\\u200cزاده', '،', 'سخنگوی', 'وزارت', 'امور', 'خارجه', 'در', 'واکنش', 'به', 'اظهارات', 'الهام', 'علی\\u200cاف\\u200c', 'گفته_است', ':', 'در\\u200cحالی\\u200cکه', 'روابط', 'خوب', 'و', 'محترمانه\\u200c\\u200cای', 'میان', 'دو', 'کشور', 'وجود', 'دارد', 'و', 'مسیرهای', 'معمول', 'ارتباطات', 'میان', 'دو', 'طرف', 'در', 'بالاترین', 'سطح', 'وجود', 'دارد', '،', 'بیان', 'آن', 'به', 'این', 'شیوه', 'مایه', 'تعجب', 'است', '.'], ['او', 'افزوده_است', ':', 'در', 'این', 'زمینه', 'و', 'موضوعات', 'دیگر', 'مرتبط', 'با', 'آن', '،', 'در', 'دیدار', 'دو', 'وزیر', 'امور', 'خارجه', 'در', 'حاشیه', 'نشست', 'اخیر', 'مجمع', 'عمومی', 'سازمان', 'ملل', 'متحد', 'در', 'نیویورک', '،', 'رایزنی\\u200cهای', 'جدی', 'و', 'دقیقی', 'صورت', 'گرفت', 'و', 'توافق', 'شد', 'در', 'یک', 'بستر', 'مناسب', 'این', 'گفت\\u200cوگو\\u200cها', 'ادامه', 'پیدا', 'کند', '.'], ['او', 'گفت', ':', 'جمهوری', 'اسلامی', 'ایران', 'همواره', 'مخالفت', 'خود', 'را', 'با', 'هرگونه', 'اشغال', 'سرزمینی', 'اعلام', 'داشته', 'و', 'بر', 'لزوم', 'احترام', 'به', 'تمامیت', 'ارضی', 'کشورها', 'و', 'مرزهای', 'شناخته\\u200cشده', 'بین\\u200cالمللی', 'تأکید', 'کرده_است', '.'], ['ضمن', 'آنکه', 'رعایت', 'حسن', 'همسایگی', 'و', 'همجواری', 'از', 'مهم\\u200cترین', 'موضوعاتی', 'است', 'که', 'انتظار', 'می\\u200cرود', 'از', 'سوی', 'همه', 'همسایگان', 'مورد', 'توجه', 'قرار', 'گیرد', '.'], ['خطیب\\u200cزاده', 'افزود', ':', 'مانور', 'انجام\\u200cشده', 'از', 'سوی', 'کشورمان', 'در', 'مناطق', 'مرزی', 'شمال\\u200c', 'غرب', 'یک', 'موضوع', 'حاکمیتی', 'است', 'و', 'برای', 'آرامش', 'و', 'ثبات', 'کل', 'منطقه', 'انجام', 'می\\u200cشود', '.'], ['البته', 'روشن', 'است', 'که', 'جمهوری', 'اسلامی', 'ایران', '،', 'حضور', 'هرچند', 'نمایشی', 'رژیم', 'صهیونیستی', 'در', 'نزدیکی', 'مرزهای', 'خود', 'را', 'تحمل', 'نخواهد_کرد', 'و', 'در', 'این', 'رابطه', 'هر', 'اقدامی', 'را', 'که', 'برای', 'امنیت', 'ملی', 'خود', 'لازم', 'بداند', '،', 'انجام', 'خواهد_داد', '.'], ['اگرچه', 'ایران', 'به', 'اتهامات', 'علی\\u200cاف', 'پاسخ', 'داده', 'و', 'اظهارات', 'رئیس\\u200cجمهور', 'آذربایجان', 'را', 'بی\\u200cاساس', 'توصیف', 'کرده', 'ولی', 'با', 'فرمانی', 'که', 'الهام', 'در', 'پیش', 'گرفته', '،', 'ممکن', 'است', 'شرایط', 'از', 'وضع', 'موجود', 'کمی', 'حادتر', 'هم', 'بشود', '.'], ['اگر', 'چنین', 'شود', '،', 'آن\\u200cوقت', 'روابط', 'دو', 'کشور', 'در', 'تمامی', 'حوزه\\u200cها', 'تحت', 'تأثیر', 'قرار', 'می\\u200cگیرد', 'و', 'اینجاست', 'که', 'پای', 'ورزشکاران', 'بی\\u200cشماری', 'که', 'از', 'ایران', 'راهی', 'جمهوری', 'آذربایجان', 'شده\\u200cاند', 'هم', 'به', 'میان', 'می\\u200cآید', '.'], ['قبل', 'از', 'وارد\\u200cشدن', 'به', 'جزئیات', 'و', 'اسامی', 'این', 'ورزشکاران', '،', 'باید', 'گفت', '\\u200cجمهوری', 'آذربایجان', 'در', 'یک', 'دهه', 'گذشته', 'مقصد', 'بسیاری', 'از', 'ورزشکاران', 'ایرانی', 'بوده', 'که', 'عمدتا', 'هم', 'تابعیت', 'این', 'کشور', 'را', 'به', 'دست', 'آورده', 'و', 'زیر', 'پرچم', 'جمهوری', 'آذربایجان', 'مبارزه', 'و', 'مسابقه', 'داده\\u200cاند', '.'], ['با\\u200cاین\\u200cحال', '،', 'آنها', 'تا\\u200cبه\\u200cحال', 'منعی', 'برای', 'تردد', 'بین', 'دو', 'کشور', 'نداشته\\u200cاند', '.'], ['این', 'موضوع', 'در', 'حالی', 'است', 'که', 'عده\\u200cای', 'دیگر', 'از', 'ورزشکاران', 'ایرانی', 'هم', 'بدون', 'اینکه', 'تبعیت', 'آذربایجان', 'را', 'بپذیرند', '،', 'به', 'لیگ\\u200cهای', 'این', 'کشور', 'رفته\\u200cاند', '.'], ['پس', '،', 'سؤال', 'اصلی', 'اینجاست', 'که', 'تکلیف', 'این', 'ورزشکاران', 'چه', 'می\\u200cشود', 'و', 'الهام', 'علی\\u200cاف', 'با', 'ورزشکاران', 'بی\\u200cشمار', 'ایرانی', 'در', 'آذربایجان', 'چه', 'می\\u200cکند', '؟'], ['آیا', 'از', 'این', 'به', 'بعد', 'ورود', 'و', 'خروج', 'ورزشکاران', 'دو', 'کشور', 'محدود', 'می\\u200cشود', '؟'], ['یا', 'شاید', 'شبیه', 'به', 'اتفاقی', 'که', 'سال\\u200cها', 'در', 'امارات', 'رخ', 'داد', '،', 'آیا', 'حضور', 'در', 'لیگ\\u200cهای', 'آذربایجان', 'هم', 'قرار', 'است', 'دستخوش', 'تغییر', 'و', 'تحول', 'قرار', 'بگیرد', '؟'], ['اینها', 'مواردی', 'است', 'که', 'ورزشکاران', 'را', 'نگران', 'می\\u200cکند', 'و', 'هیچ\\u200cکدام', 'علاقه\\u200cای', 'به', 'تیره\\u200cشدن', 'روابط', 'دیپلماتیک', 'دو', 'کشور', 'ندارند', '.'], ['فهرست', 'ورزشکاران', 'ایرانی', 'که', 'زیر', 'پرچم', 'جمهوری', 'آذربایجان', 'مسابقه', 'می\\u200cدهند', 'هم', 'چندان', 'کم', 'نیست', '؛', 'علی', 'قربانی', 'و', 'حجت', 'حق\\u200cوردی', 'دو', 'فوتبالیست', 'مشهور', 'ایرانی', 'هستند', 'که', 'برای', 'تیم', 'ملی', 'فوتبال', 'جمهوری', 'آذربایجان', 'مسابقه', 'می\\u200cدهند', '.'], ['چهار', 'فوتسالیست', 'ایرانی', 'هم', 'پیش\\u200cتر', 'در', 'ترکیب', 'تیم', 'ملی', 'فوتسال', 'جمهوری', 'آذربایجان', 'دیده', 'شده\\u200cاند', ':', 'وحید', 'شفیعی', '،', 'بازیکن', 'سابق', 'تیم', 'ملی', 'ایران', 'و', 'تیم\\u200cهای', 'دبیری', 'تبریز', 'و', 'سن\\u200cایچ', 'ساوه', '،', 'امیر', 'شجاعی', 'بازیکن', 'تیم', 'اهورای', 'بهبهان', '،', 'اسحاق', 'سورغالی', 'بازیکن', 'تیم', 'ارژن', 'شیراز', 'و', 'هادی', 'احمدی', '،', 'بازیکن', 'تیم', 'فرش\\u200cآرا', 'چهار', 'بازیکنی', 'هستند', 'که', 'در', 'ترکیب', 'تیم', 'ملی', 'آذربایجان', 'در', 'رشته', 'فوتسال', 'به', 'میدان', 'رفته\\u200cاند', '.'], ['گل', 'سرسبد', 'ایرانی\\u200cهایی', 'که', 'برای', 'جمهوری', 'آذربایجان', 'مسابقه', 'می\\u200cدهند', 'هم', 'حامد', 'حیدری', 'است', 'که', 'همین', 'یکی', '،', 'دو', 'ماه', 'گذشته', 'مدال', 'طلای', 'پارالمپیک', 'در', 'رشته', 'پرتاب', 'نیزه', 'را', 'از', 'چنگ', 'ورزشکار', 'ایرانی', 'درآورد', 'و', 'به', 'حساب', 'جمهوری', 'آذربایجان', 'لحاظ', 'کرد', '.'], ['البته', 'که', 'به', 'غیر', 'از', 'اینها', 'ورزشکاران', 'دیگری', 'هم', 'بوده', 'و', 'هستند', 'که', 'یا', 'برای', 'این', 'کشور', 'به', 'میدان', 'رفته', 'یا', 'این\\u200cروزها', 'در', 'آستانه', 'بازی\\u200cکردن', 'برای', 'تیم\\u200cهای', 'ملی', 'جمهوری', 'آذربایجان', 'یا', 'لیگ\\u200cهای', 'مربوطه', 'در', 'این', 'کشور', 'هستند', '.'], ['سامان', 'طهماسبی', '،', 'مسعود', 'هاشم\\u200cزاده', 'و', 'صباح', 'شریعتی', '،', 'فرنگی\\u200cکاران', 'ایرانی', 'بوده\\u200cاند', 'که', 'با', 'تغییر', 'تابعیت', 'پذیرفتند', 'برای', 'تیم', 'ملی', 'جمهوری', 'آذربایجان', 'مبارزه', 'کنند', '.'], ['سینا', 'بهرامی', 'در', 'تکواندو', 'پایه\\u200cگذار', 'سفر', 'به', 'جمهوری', 'آذربایجان', 'و', 'مسابقه\\u200cدادن', 'با', 'پرچم', 'این', 'کشور', 'در', 'تکواندو', 'بود', 'ولی', 'میلاد', 'بیگی', 'را', 'شاید', 'بتوان', 'مهم\\u200cترین', 'شکار', 'جمهوری', 'آذربایجان', 'در', 'بین', 'ورزشکاران', 'ایرانی', 'دانست', '.'], ['او', 'با', 'پرچم', 'جمهوری', 'آذربایجان', 'دو', 'مدال', 'نقره', 'جهانی', 'به', 'دست', 'آورد', 'و', 'سپس', 'در', 'افتخاری', 'فراموش\\u200cنشدنی', 'موفق', 'شد', 'آذربایجان', 'را', 'صاحب', 'مدال', 'برنز', 'المپیک', 'در', 'سال', '۲۰۱۶', 'کند', '.'], ['سهیلا', 'سیاحی', 'هم', 'دیگر', 'تکواندوکار', 'ایرانی', 'بود', 'که', 'سر', 'از', 'تیم', 'ملی', 'جمهوری', 'آذربایجان', 'درآورد', '؛', 'هرچند', 'توفیقی', 'مثل', 'بقیه', 'در', 'این', 'زمینه', 'به', 'دست', 'نیاورد', '.'], ['حالا', 'با', 'مرور', 'همین', 'فهرست', 'کوتاه', 'و', 'انتقالاتی', 'که', 'در', 'سال\\u200cهای', 'اخیر', 'رخ', 'داده', '،', 'مشخص', 'است', 'اگر', 'قرار', 'باشد', 'الهام', 'علی\\u200cاف', 'همچنان', 'به', 'صحبت\\u200cهای', 'بحث\\u200cبرانگیزش', 'علیه', 'ایران', 'ادامه', 'دهد', '،', 'حال\\u200cو\\u200cروز', 'این', 'ورزشکاران', 'ایرانی', 'که', 'در\\u200cحال\\u200cحاضر', 'عضوی', 'از', 'تیم', 'ملی', 'جمهوری', 'آذربایجان', 'هستند', 'یا', 'در', 'لیگ\\u200cهای', 'این', 'کشور', 'بازی', 'می\\u200cکنند', '،', 'مبهم', 'می\\u200cشود', '.'], ['به', 'نظر', 'می\\u200cرسد', 'نشست\\u200cهای', 'کارشناسانه', 'فدراسیون', 'تکواندو', 'برای', 'بررسی', 'ناکامی', 'این', 'رشته', 'در', 'بازی\\u200cهای', 'المپیک', '۲۰۲۰', '،', 'بی\\u200cحاصل', 'بوده_است', '.'], ['کمیته', 'فنی', 'این', 'فدراسیون', 'در', 'شرایطی', 'بعد', 'از', 'المپیک', 'جلسات', 'مختلفی', 'را', 'برگزار', 'کرد', 'تا', 'عملکرد', 'ضعیف', 'کادر', 'فنی', 'تیم\\u200cهای', 'ملی', 'را', 'در', 'این', 'بازی\\u200cها', 'تجزیه', 'و', 'تحلیل', 'کند', 'که', 'در', 'اقدامی', 'عجیب', '،', 'باز', 'هم', 'حکم', 'به', 'ابقای', 'سرمربیان', 'هر', 'دو', 'تیم', 'داد', '.'], ['اعضای', 'این', 'کمیته', 'که', 'پیش\\u200cتر', 'به', 'ادامه', 'حضور', 'فریبرز', 'عسکری', 'در', 'تیم', 'ملی', 'مردان', 'رأی', 'داده_بودند', '،', 'روز', 'گذشته', 'نیز', 'مهرو', 'کمرانی', '،', 'سرمربی', 'تیم', 'ملی', 'زنان', 'را', 'در', 'این', 'سمت', 'ابقا', 'کردند', '.'], ['حال', 'سؤال', 'این', 'است', 'که', 'اگر', 'قرار', 'بود', 'مسئولان', 'فدراسیون', 'تکواندو', 'چنین', 'تصمیمی', 'بگیرند', '،', 'پس', 'دیگر', 'چه', 'نیازی', 'به', 'برگزاری', 'جلسات', 'متعدد', 'بود', '؟'], ['پر\\u200cواضح', 'است', 'که', 'مدیریت', 'ساکن', 'و', 'مادام\\u200cالعمر', '(', '!', ')', 'محمد', 'پولادگر', 'در', 'فدراسیون', 'تکواندو', 'دیگر', 'راه', 'به', 'جایی', 'نمی\\u200cبرد', 'و', 'تنها', 'چاره', 'نجات', 'تکواندوی', 'ایران', 'از', 'شکست\\u200cهای', 'سال', 'اخیر', 'یک', 'تغییر', 'و', 'خانه\\u200cتکانی', 'اساسی', 'است', '.'], ['پولادگر', 'بدون', 'تردید', 'یکی', 'از', 'رئیس', 'فدراسیون\\u200cهایی', 'بوده', 'که', 'در', 'یک', 'دهه', 'اخیر', 'چالش', 'زیادی', 'با', 'اهالی', 'تکواندو', 'داشته', 'و', 'هر', 'بار', 'به', 'بهانه\\u200cای', 'یکی', 'از', 'اعضای', 'این', 'خانواده', 'را', 'حذف', 'کرده_است', '.'], ['به', 'اعتقاد', 'کارشناسان', 'تکواندو', '،', 'تیم', 'اجرائی', 'فعلی', 'چاره\\u200cای', 'جز', 'انتصاب', 'مجدد', 'عسکری', 'و', 'کمرانی', 'ندارد', '؛', 'چرا\\u200cکه', 'به', 'دلیل', 'تنش\\u200cهای', 'موجود', '،', 'بیشتر', 'اعضای', 'این', 'خانواده', 'منتقد', 'فدراسیون', 'هستند', 'تا', 'همراهش', '.'], ['جالب', 'اینجاست', 'که', 'فدراسیون', 'تکواندو', 'برای', 'اینکه', 'از', 'فشار', 'روانی', 'نتایج', 'ضعیف', 'تکواندوکاران', 'در', 'المپیک', 'توکیو', 'کم', 'کند', '،', 'چندی', 'قبل', 'بیانیه\\u200cای', 'عجیب\\u200cو\\u200cغریب', 'را', 'منتشر', 'کرد', 'که', 'چیزی', 'جز', 'فرار', 'رو', 'به', 'جلو', 'نبود', '.'], ['شیوع', 'ویروس', 'کرونا', 'و', 'تعویق', 'یک\\u200cساله', 'المپیک', '،', 'تشخیص', 'اشتباه', 'کمیسیون', 'تخصصی', 'فدراسیون', 'پزشکی', 'ورزشی', 'در', 'آسیب\\u200cدیدگی', 'آرمین', 'هادی\\u200cپور', 'و', 'اضافه\\u200cوزن', 'میرهاشم', 'حسینی', 'به\\u200cخاطر', 'تأخیر', 'در', 'بازی\\u200cها', '،', 'دلایلی', 'است', 'که', 'فدراسیون', 'در', 'توجیه', 'ناکامی', 'این', 'تیم', 'مطرح', 'کرده_است', '؛', 'دلایلی', 'غیرمنطقی\\u200c', 'که', 'بدون', 'شک', 'نه\\u200cتنها', 'اهالی', 'تکواندو', '،', 'بلکه', 'کارشناسان', 'ورزشی', 'هم', 'نمی\\u200cتوانند', 'آن', 'را', 'بپذیرند', '.'], ['اتفاق', 'بدتر', 'اینکه', 'باخت', 'ناهید', 'کیانی', 'برابر', 'کیمیا', 'علیزاده', '،', 'ملی\\u200cپوش', 'اسبق', 'تیم', 'ملی', 'زنان', 'ایران', 'را', 'که', 'در', 'حال', 'حاضر', 'پناهنده', 'آلمان', 'است', 'نیز', 'به', 'توطئه', 'سیاسی', 'کمیته', 'بین\\u200cالمللی', 'المپیک', 'ربط', 'می\\u200cدهند', '.'], ['فدراسیون', 'تکواندو', 'معتقد', 'است', 'فشار', 'روانی', 'این', 'مبارزه', 'باعث', 'شده', 'کیانی', 'نتواند', 'مسابقه', 'همیشگی\\u200cاش', 'را', 'به', 'نمایش', 'بگذارد', '!'], ['تیم', 'ملی', 'تکواندو', 'که', 'همیشه', 'ضلع', 'سوم', 'مدال\\u200cآوری\\u200cهای', 'ورزش', 'ایران', 'در', 'بازی\\u200cهای', 'المپیک', 'بوده', '،', 'در', 'توکیو', 'نمایشی', 'شبیه', 'فاجعه', 'داشت', 'و', 'برای', 'نخستین\\u200cبار', 'در', 'دوره\\u200cهای', 'متمادی', '،', 'نمایندگان', 'این', 'رشته', 'بدون', 'کسب', 'هیچ\\u200c', 'مدالی', 'از', 'آوردگاه', 'المپیک', 'به', 'تهران', 'بازگشتند', '.'], ['با', 'همه', 'اینها', '،', 'دوره', 'ریاست', 'محمد', 'پولادگر', '،', 'رئیس', 'فدراسیون', 'تکواندو', '،', 'رو', 'به', 'پایان', 'است', 'و', 'باید', 'دید', 'آیا', 'او', 'تصمیم', 'دارد', 'با', 'وجود', 'عملکرد', 'نامطلوبی', 'که', 'در', 'سال\\u200cهای', 'اخیر', 'از', 'خود', 'به', 'جا', 'گذاشته', '،', 'باز', 'هم', 'برای', 'انتخابات', 'جدید', 'اعلام', 'آمادگی', 'کند', 'یا', 'خیر', '.'], ['او', '۲۰', 'سال', 'پیاپی', 'است', 'که', 'رئیس', 'تکواندوی', 'ایران', 'است', '.'], ['رقابت\\u200cهای', 'کشتی', 'آزاد', 'قهرمانی', 'جهان', 'نروژ', '،', 'امروز', 'در', 'حالی', 'پیگیری', 'می\\u200cشود', 'که', 'ایران', 'دو', 'فینالیست', 'در', 'چهار', 'وزن', 'نخست', 'دارد', '.'], ['۶۱', '،', '۷۴', '،', '۸۶', 'و', '۱۲۵', 'کیلوگرم', 'چهار', 'وزنی', 'بودند', 'که', 'روز', 'گذشته', 'مسابقات', 'مقدماتی', 'و', 'نیمه\\u200cنهایی', 'آنها', 'برگزار', 'شد', 'و', 'راهیابی', 'دو', 'عضو', 'تیم', 'ملی', 'کشتی', 'کشورمان', 'به', 'فینال', 'و', 'ناکامی', 'دو', 'ملی\\u200cپوش', 'دیگر', 'را', 'به', 'همراه', 'داشت', '.'], ['حسن', 'یزدانی', 'در', 'وزن', '۸۶', 'کیلوگرم', 'و', 'امیرحسین', 'زارع', 'در', 'وزن', '۱۲۵', 'کیلوگرم', 'دو', 'ملی\\u200cپوش', 'عنوان\\u200cدار', 'تیم', 'ملی', 'آزاد', 'که', 'چندی', 'پیش', 'در', 'بازی\\u200cهای', 'المپیک', '۲۰۲۰', 'توکیو', 'به', 'ترتیب', 'موفق', 'به', 'کسب', 'مدال', 'نقره', 'و', 'برنز', 'شدند', '،', 'مقتدرانه', 'از', 'سد', 'حریفان', 'گذشتند', 'تا', 'روی', 'سکوی', 'این', 'آوردگاه', 'بزرگ', 'بروند', '.'], ['هر', 'چقدر', 'هم', 'در', 'همه', 'اوزان', 'کشتی', 'آزاد', 'شاهد', 'دوئل\\u200cهای', 'جذاب', 'و', 'فینال\\u200cهای', 'قابل', 'پیش\\u200cبینی', 'باشیم', '،', 'اما', 'قطعا', 'وزن', '۸۶', 'کیلوگرم', 'از', 'همه', 'اوزان', 'سرتر', 'و', 'رقابت', 'در', 'آن', 'بین', 'دو', 'فوق', 'ستاره', 'کشتی', 'دنیا', 'هیجان\\u200cانگیز', 'و', 'غیرقابل', 'پیش\\u200cبینی\\u200cتر', 'است', '.'], ['جایی', 'که', 'تمام', 'نگاه\\u200cها', 'به', 'حسن', 'یزدانی', 'و', 'دیوید', 'تیلور', 'است', 'تا', 'شاهد', 'مبارزه', 'دیدنی', 'آنها', 'باشند', '.'], ['تیلور', 'و', 'یزدانی', 'در', 'شرایطی', 'برای', 'چهارمین\\u200cبار', 'به', 'مصاف', 'هم', 'می\\u200cروند', 'که', 'تاکنون', 'هیچ', 'کشتی\\u200cگیر', 'ایرانی', 'موفق', 'به', 'شکست', 'این', 'کشتی\\u200cگیر', 'آمریکایی', 'نشده_است', '.'], ['پلنگ', 'جویبار', 'که', 'تمرینات', 'ویژه\\u200cای', 'را', 'برای', 'افزایش', 'آمادگی', 'جسمانی', 'خود', 'زیر', 'نظر', 'پژمان', 'درستکار', 'سپری', 'کرده', '،', 'حالا', 'خودش', 'را', 'آماده', 'می\\u200cکند', 'تا', 'بعد', 'از', 'آخرین', 'باخت', 'خود', 'مقابل', 'رقیب', 'نامدارش', 'که', 'چندی', 'پیش', 'در', 'المپیک', 'توکیو', 'رقم', 'خورد', '،', 'انتقام', 'شکست\\u200cهای', 'قبلی', 'را', 'بگیرد', '.'], ['تیلور', 'پیش', 'از', 'این', 'سه', 'مرتبه', 'در', 'جریان', 'رقابت\\u200cهای', 'جام', 'جهانی', 'کرمانشاه', '۲۰۱۷', '،', 'رقابت\\u200cهای', 'قهرمانی', 'جهان', 'بوداپست', '۲۰۱۸', 'و', 'فینال', 'المپیک', 'توکیو', 'موفق', 'به', 'شکست\\u200cدادن', 'حسن', 'یزدانی', 'شده_بود', '.'], ['حسن', 'یزدانی', 'برای', 'رسیدن', 'به', 'مرحله', 'نیمه\\u200cنهایی', '،', 'پس', 'از', 'استراحت', 'در', 'دور', 'نخست', '،', 'عظمت', 'دولت', 'بیکوف', 'از', 'قزاقستان', 'را', 'با', 'نتیجه', '۱۲', 'بر', '۲', 'مغلوب', 'کرد', 'و', 'در', 'مرحله', 'یک\\u200cچهارم', 'نهایی', 'اتهان', 'راموس', 'از', 'پورتوریکو', 'را', 'با', 'نتیجه', '۱۰', 'بر', 'صفر', 'از', 'پیش\\u200cرو', 'برداشت', '.'], ['یزدانی', 'در', 'یک', 'کشتی', 'تکراری', 'همچون', 'المپیک', '۲۰۲۰', 'توکیو', 'در', 'این', 'مرحله', 'به', 'مصاف', 'آرتور', 'نایفونوف', 'دارنده', 'مدال', 'برنز', 'المپیک', 'و', 'جهان', 'از', 'روسیه', 'رفت', 'و', '۷', 'بر', 'یک', 'او', 'را', 'مغلوب', 'کرد', '.'], ['مبارزه', 'یزدانی', 'با', 'این', 'رقیب', 'روسی', 'در', 'المپیک', 'تا', 'لحظات', 'پایانی', 'حساس', 'دنبال', 'شد', '؛', 'اگرچه', 'در', 'نهایت', 'حسن', 'توانست', '۷', 'بر', 'یک', 'به', 'برتری', 'برسد', '.'], ['اما', 'در', 'وزن', '۱۲۵', 'کیلوگرم', 'امیرحسین', 'زارع', 'نیز', 'نمایشی', 'فوق\\u200cالعاده', 'داشت', 'و', 'با', 'کشتی\\u200cهای', 'زیبایی', 'که', 'گرفت', 'ثابت', 'کرد', 'حداقل', 'تا', 'المپیک', 'بعدی', 'نفر', 'اول', 'این', 'وزن', 'خواهد_بود', '.'], ['او', 'که', 'به', 'تازگی', 'مدال', 'برنز', 'المپیک', 'توکیو', 'را', 'کسب', 'کرده', '،', 'بعد', 'از', 'پیروزی', 'آسان', 'مقابل', 'نماینده', 'بلاروس', '(', '۶', 'بر', 'صفر', ')', 'در', 'مرحله', 'یک\\u200cچهارم', 'نهایی', 'برابر', 'نیکولاس', 'گویازدوفسکی', 'دارنده', 'مدال', 'برنز', 'جهان', 'از', 'آمریکا', 'قرار', 'گرفت', 'و', 'با', 'اینکه', 'پیش\\u200cبینی', 'می\\u200cشد', 'نبرد', 'سختی', 'را', 'پیش\\u200cرو', 'داشته_باشد', '،', 'با', 'صلابت', 'تمام', 'رقیبش', 'را', 'شکست', 'داد', '.'], ['امیرحسین', 'در', 'دو', 'دقیقه', 'حریف', 'خود', 'را', 'با', 'نتیجه', '۱۰', 'بر', 'صفر', 'برد', 'تا', 'به', 'نیمه\\u200cنهایی', 'برسد', '.'], ['حریف', 'زارع', 'در', 'نیمه\\u200cنهایی', 'طاها', 'آکگول', '،', 'دارنده', 'طلای', 'جهان', 'و', 'المپیک', 'از', 'ترکیه', 'بود', 'که', 'با', 'نتیجه', '۴', 'بر', 'صفر', 'او', 'را', 'شکست', 'داد', '.'], ['بدین', 'ترتیب', 'امشب', 'امیرحسین', 'زارع', 'در', 'فینال', 'وزن', '۱۲۵', 'کیلوگرم', 'مقابل', 'گنو', 'پتریاشویلی', '،', 'کشتی\\u200cگیر', 'نامدار', 'گرجستانی', 'قرار', 'خواهد_گرفت', '.'], ['رقابت\\u200cهای', 'روز', 'نخست', 'کشتی', 'آزاد', 'مسابقات', 'جهانی', '۲۰۲۱', 'نروژ', 'دیروز', 'در', 'اوزان', '۶۱', 'و', '۷۴', 'کیلوگرم', 'برای', 'ایران', 'توفیقی', 'نداشت', '.'], ['رحمان', 'عموزاده', 'خلیل', 'و', 'یونس', 'امامی', '،', 'نماینده\\u200cهای', 'کشورمان', 'در', 'این', 'وزن\\u200cها', 'بودند', 'که', 'از', 'دور', 'رقابت\\u200cها', 'کنار', 'رفتند', '.'], ['مسابقات', 'امروز', 'در', 'چهار', 'وزن', 'دوم', 'یعنی', '۵۷', '،', '۶۵', '،', '۷۹', 'و', '۹۲', 'پیگیری', 'می\\u200cشود', '.'], ['نماینده\\u200cهای', 'ایران', 'در', 'این', 'اوزان', 'به', 'ترتیب', 'علیرضا', 'سرلک', '،', 'امیرمحمد', 'یزدانی', '،', 'کامران', 'قاسم\\u200cپور', 'و', 'مجتبی', 'گلیج', 'هستند', '.'], ['رئیس', 'صداوسیما', 'بازگشت', 'عادل', 'فردوسی\\u200cپور', 'را', 'تأیید', 'کرد', '!'], ['رئیس', 'جدید', 'صداوسیما', 'می\\u200cگوید', 'عادل', 'فردوسی\\u200cپور', 'منعی', 'برای', 'بازگشت', 'به', 'تلویزیون', 'ندارد', '.'], ['به', 'گزارش', 'فرارو', '،', 'زمزمه', 'بازگشت', 'عادل', 'فردوسی\\u200cپور', 'به', 'تلویزیون', 'چندین', 'هفته', 'است', 'به', 'گوش', 'می\\u200cرسد', '.'], ['او', 'از', 'اسفند', '۹۷', 'که', 'با', 'شبکه', 'سه', 'قطع', 'همکاری', 'کرده', '،', 'تا', 'همین', 'حالا', 'مورد', 'بی\\u200cمهری', 'مسئولان', 'این', 'شبکه', 'قرار', 'گرفته', 'و', 'حتی', 'شایعه', 'ممنوع\\u200cالتصویری\\u200cاش', 'هم', 'به', 'گوش', 'رسید', '.'], ['علاوه', 'بر', 'ممنوع\\u200cالتصویری', '،', 'به', 'عادل', 'فردوسی\\u200cپور', 'گزارشی', 'هم', 'در', 'شبکه\\u200cهای', 'سه', 'و', 'ورزش', 'سیما', 'داده_نشد', 'که', 'البته', 'علی', 'فروغی', '،', 'مدیر', 'شبکه', 'سه', '،', 'ادعا', 'کرده_بود', 'عادل', 'خودش', 'از', 'گزارش', 'بازی\\u200cها', 'سر', 'باز', 'می\\u200cزند', '.'], ['با\\u200cاین\\u200cحال', 'در', 'تنها', 'برنامه\\u200cای', 'که', 'فردوسی\\u200cپور', 'فعالیت', 'می\\u200cکند', '،', 'هنوز', 'نقشش', 'پررنگ', 'است', '.'], ['او', 'بعد', 'از', 'تعطیلی', 'برنامه', '۹۰', 'فقط', 'در', 'برنامه', 'فوتبال', '۱۲۰', 'شبکه', 'ورزش', 'فعال', 'است', '.'], ['در', 'این', 'برنامه', 'هم', 'عادل', 'حق', 'مجری\\u200cگری', 'ندارد', 'و', 'تصویرش', 'هم', 'به', 'غیر', 'از', 'دو', 'هفته', 'اخیر', 'و', 'به', 'صورت', 'نیم\\u200cرخ', '،', 'منتشر', 'نشده_است', '.'], ['در', 'این', 'برنامه', 'فقط', 'صدای', 'عادل', 'فردوسی\\u200cپور', 'وجود', 'دارد', '.'], ['به', 'غیر', 'از', 'این', 'موارد', '،', 'عادل', 'قصد', 'داشت', 'برنامه\\u200cای', 'به', 'نام', '۳۶۰', 'هم', 'در', 'شبکه', 'خانگی', 'تولید', 'کند', 'که', 'ساترا', 'مانع', 'از', 'آن', 'شد', 'و', 'گفت', 'که', 'صداوسیما', 'مجوز', 'پخش', 'این', 'برنامه', 'را', 'صادر', 'نکرده_است', '.'], ['علی', 'فروغی', 'مدیر', 'شبکه', 'سه', 'از', 'این', 'گفت', 'که', 'عادل', 'از', 'مدار', 'خارج', 'شده_است', 'و', 'باید', 'جلویش', 'گرفته_شود', '.'], ['بعد', 'از', 'کش\\u200cوقوس\\u200cهای', 'فراوان', 'حالا', 'عبدالعلی', 'علی\\u200cعسگری', '،', 'رئیس', 'سازمان', 'صداوسیما', 'عوض', 'شده', 'و', 'پیمان', 'جبلی', 'به', 'جایش', 'معرفی', 'شده_است', '.'], ['با', 'این', 'تغییرات', '،', 'بسیاری', 'از', 'جابه\\u200cجایی', 'علی', 'فروغی', 'از', 'شبکه', 'سه', 'سیما', 'خبر', 'می\\u200cدهند', 'و', 'می\\u200cگویند', 'اگر', 'چنین', 'شود', '،', 'راه', 'برای', 'بازگشت', 'دوباره', 'عادل', 'فردوسی\\u200cپور', 'به', 'این', 'شبکه', 'و', 'تلویزیون', 'هموار', 'می\\u200cشود', '.'], ['در', 'گیرودار', 'همین', 'شایعات', '،', 'دیروز', 'باشگاه', 'خبرنگاران', 'ویدئویی', 'از', 'دیدار', 'پیمان', 'جبلی', 'با', 'خبرنگاران', 'خوزستانی', 'منتشر', 'کرده', 'که', 'در', 'آن', 'رئیس', 'جدید', 'صداوسیما', 'به', 'درخواست', 'برای', 'بازگشت', 'عادل', 'فردوسی\\u200cپور', 'واکنش', 'مستقیمی', 'دارد', 'و', 'می\\u200cگوید', ':', '«', 'عادل', 'فردوسی\\u200cپور', 'می\\u200cتواند', 'دوباره', 'به', 'تلویزیون', 'برگردد', 'و', 'از', 'نظر', 'ما', 'منعی', 'ندارد', '»', '.'], ['صحبت\\u200cهای', 'جدید', 'رئیس', 'صداوسیما', 'حالا', 'این', 'تب\\u200cو\\u200cتاب', 'را', 'به', 'وجود', 'آورده_است', 'که', 'عادل', 'دوباره', 'قرار', 'است', 'به', 'شبکه', 'سه', 'سیما', 'برگردد', '؛', 'ولی', 'در\\u200cاین\\u200cمیان', 'سؤالات', 'بسیار', 'زیادی', 'مطرح', 'است', '؛', 'آیا', 'بازگشت', 'عادل', 'با', 'برداشتن', 'محدودیت\\u200cهای', 'اعمال\\u200cشده', 'علیه', 'او', 'صورت', 'می\\u200cگیرد', '؟'], ['لیست', 'تیم', 'ملی', 'برای', 'بازی', 'با', 'امارات', 'و', 'کره', 'جنوبی'], ['دراگان', 'اسکوچیچ', '،', 'لیست', 'تیم', 'ملی', 'برای', 'دو', 'بازی', 'آینده', 'با', 'امارات', 'و', 'کره', 'جنوبی', 'را', 'اعلام', 'کرده_است', '.'], ['لیستی', 'که', 'دو', 'لژیونر', 'تیم', 'ملی', 'به', 'آن', 'بازگشته\\u200cاند', '.'], ['به', 'گزارش', 'فوتبال', '۳۶۰', '،', 'لیست', 'تیم', 'ملی', 'برای', 'دو', 'بازی', 'آینده', 'انتخابی', 'جام', 'جهانی', 'مشخص', 'شده', 'و', 'سورپرایز', 'خاصی', 'در', 'آن', 'دیده_نمی\\u200cشود', '.'], ['جعفر', 'سلمانی', 'که', 'در', 'بازی', 'با', 'سوریه', 'عملکرد', 'خوبی', 'نداشت', '،', 'از', 'لیست', 'ایران', 'حذف', 'شده', 'و', 'زبیر', 'نیک\\u200cنفس', 'هم', 'جایی', 'در', 'تیم', 'ملی', 'ندارد', '.'], ['اتفاق\\u200cهایی', 'که', 'همگی', '،', 'قابل', 'پیش\\u200cبینی', 'به', 'نظر', 'می\\u200cرسیدند', '.'], ['اتفاق', 'مهم', 'برای', 'ایران', '،', 'بازگشت', 'دو', 'لژیونری', 'است', 'که', 'اردوی', 'قبلی', 'را', 'به', 'خاطر', 'مصدومیت', 'از', 'دست', 'داده_بودند', '.'], ['کاوه', 'رضایی', '،', 'مهاجم', 'اود', 'هورلی', 'بلژیک', 'به', 'تیم', 'ملی', 'برگشته', 'و', 'می\\u200cتواند', 'در', 'کنار', 'مهاجمان', 'فوق\\u200cالعاده', 'ایران', '،', 'کار', 'حریفان', 'را', 'سخت\\u200cتر', 'کند', '.'], ['البته', 'با', 'فرم', 'فعلی', 'مهدی', 'طارمی', '،', 'سردار', 'آزمون', '،', 'علیرضا', 'جهانبخش', 'و', 'علی', 'قلی\\u200cزاده', '،', 'حضور', 'در', 'ترکیب', 'اصلی', 'برای', 'سایر', 'مهاجمان', 'تیم', 'ملی', 'کار', 'دشواری', 'خواهد_بود', '؛', 'اما', 'در', 'صورت', 'گره\\u200cخوردن', 'مسابقه', '،', 'رضایی', 'در', 'کنار', 'کریم', 'انصاری\\u200cفرد', 'و', 'مهدی', 'قایدی', 'می\\u200cتوانند', 'گزینه\\u200cهای', 'بعدی', 'دراگان', 'اسکوچیچ', 'برای', 'ضربه\\u200cزدن', 'به', 'دروازه', 'حریف', 'باشند', '.'], ['آ', '.'], ['ا', '.'], ['ک', 'آتن', '،', 'با', 'داشتن', 'هم\\u200cزمان', 'سه', 'بازیکن', 'بزرگ', 'ایران', '،', 'حالا', 'رکورددار', 'بازیکن', 'در', 'تیم', 'ملی', 'است', '.'], ['به', 'جز', 'آ', '.'], ['ا', '.'], ['ک', '،', 'فقط', 'پرسپولیس', 'سه', 'نماینده', 'در', 'تیم', 'ملی', 'دارد', '.']]\n"
          ]
        }
      ]
    },
    {
      "cell_type": "code",
      "source": [
        "sports_tokens_100 = sports_tokens_repeatitive[:100]\n",
        "del sports_tokens_repeatitive"
      ],
      "metadata": {
        "id": "HyEL-spLw9CN"
      },
      "execution_count": null,
      "outputs": []
    },
    {
      "cell_type": "code",
      "source": [
        "hund_sentences = []\n",
        "for sent in sports_tokens_100:\n",
        "  hund_sentences.append(normalize_input(\" \".join(sent)))"
      ],
      "metadata": {
        "id": "ohYzNQSlxHD7"
      },
      "execution_count": null,
      "outputs": []
    },
    {
      "cell_type": "code",
      "source": [
        "x, y = create_dataset(hund_sentences, model)"
      ],
      "metadata": {
        "id": "NwAp_BKn0dhY"
      },
      "execution_count": null,
      "outputs": []
    },
    {
      "cell_type": "code",
      "source": [
        "len(x)\n",
        "len(y)"
      ],
      "metadata": {
        "colab": {
          "base_uri": "https://localhost:8080/"
        },
        "id": "GH_QaEZIPDkp",
        "outputId": "f2999960-aa2a-44fe-80e7-662c091433c9"
      },
      "execution_count": null,
      "outputs": [
        {
          "output_type": "execute_result",
          "data": {
            "text/plain": [
              "2651"
            ]
          },
          "metadata": {},
          "execution_count": 99
        }
      ]
    },
    {
      "cell_type": "code",
      "source": [
        "from tensorflow.keras.utils import to_categorical"
      ],
      "metadata": {
        "id": "wlsiNKUn9UZ2"
      },
      "execution_count": null,
      "outputs": []
    },
    {
      "cell_type": "code",
      "source": [
        "X = np.array([temp.flatten() for temp in x])\n",
        "X[:, [0,2,4,6,8]] = X[:, [0,2,4,6,8]].astype(int)\n",
        "y = to_categorical(y).astype(int)"
      ],
      "metadata": {
        "id": "Xoi_J1Fu_Efv"
      },
      "execution_count": null,
      "outputs": []
    },
    {
      "cell_type": "code",
      "source": [
        "Y = y.astype(int)"
      ],
      "metadata": {
        "id": "y0bbTZXU_Reu"
      },
      "execution_count": null,
      "outputs": []
    },
    {
      "cell_type": "code",
      "source": [
        "Y[0]"
      ],
      "metadata": {
        "colab": {
          "base_uri": "https://localhost:8080/"
        },
        "id": "KjVRo5pGAKtw",
        "outputId": "d458b336-333f-48ad-af80-5a28d47a9371"
      },
      "execution_count": null,
      "outputs": [
        {
          "output_type": "execute_result",
          "data": {
            "text/plain": [
              "array([0, 0, 0, 1, 0])"
            ]
          },
          "metadata": {},
          "execution_count": 120
        }
      ]
    },
    {
      "cell_type": "markdown",
      "source": [
        "Here we Train our model using the Features(Bert score and Editing distance of potential substitutes)."
      ],
      "metadata": {
        "id": "XcMPyqTJleOG"
      }
    },
    {
      "cell_type": "code",
      "source": [
        "from sklearn.neural_network import MLPClassifier\n",
        "from sklearn.datasets import make_classification\n",
        "from sklearn.model_selection import train_test_split\n",
        "X_train, X_test, y_train, y_test = train_test_split(X, Y, random_state=1)\n",
        "clf = MLPClassifier(random_state=1, max_iter=300).fit(X_train, y_train)\n",
        "clf.predict_proba(X_test[:1])\n",
        "clf.predict(X_test[:5, :])\n",
        "clf.score(X_test, y_test)"
      ],
      "metadata": {
        "colab": {
          "base_uri": "https://localhost:8080/"
        },
        "id": "ZEbQu9btAc9w",
        "outputId": "bcf1f508-0827-4afa-ddec-390bba289279"
      },
      "execution_count": null,
      "outputs": [
        {
          "output_type": "stream",
          "name": "stderr",
          "text": [
            "/usr/local/lib/python3.7/dist-packages/sklearn/neural_network/_multilayer_perceptron.py:696: ConvergenceWarning: Stochastic Optimizer: Maximum iterations (300) reached and the optimization hasn't converged yet.\n",
            "  ConvergenceWarning,\n"
          ]
        },
        {
          "output_type": "execute_result",
          "data": {
            "text/plain": [
              "0.8280542986425339"
            ]
          },
          "metadata": {},
          "execution_count": 121
        }
      ]
    },
    {
      "cell_type": "code",
      "source": [
        "def mlp_evaluate(text, model, max_threshold = 1500):\n",
        "  text_arr = text.split()\n",
        "  results = []\n",
        "  outputs = []\n",
        "  for ind in range(len(text_arr)):\n",
        "    print(text)\n",
        "    correct_word = text_arr[ind]\n",
        "    resp, input_str = tester(text, ind)\n",
        "    if resp[\"raw\"] == \"ها\":\n",
        "      continue\n",
        "    tokenized = tokenizer.tokenize(input_str)\n",
        "    attached = attach(tokenized)\n",
        "    preds = model(attached, top_k = max_threshold)\n",
        "    preds_scores = [pred[\"score\"] for pred in preds]\n",
        "    preds_str = [pred[\"token_str\"] for pred in preds]\n",
        "    edit_distances = [gensim.similarities.fastss.editdist(correct_word, pred_str) for pred_str in preds_str]\n",
        "    min_dist_words = np.array(preds_str)[np.array(edit_distances).argsort()[:5]]\n",
        "    min_dist_scores = np.array(preds_scores)[np.array(edit_distances).argsort()[:5]]\n",
        "    min_edit_distances = np.array(edit_distances)[np.array(edit_distances).argsort()[:5]]\n",
        "    model_input = []\n",
        "    for dist, score in zip(min_edit_distances, min_dist_scores):\n",
        "      model_input.append(dist)\n",
        "      model_input.append(score)\n",
        "    model_input = np.array([model_input])\n",
        "    model_input[:,[0, 2, 4, 6, 8]] = model_input[:,[0, 2, 4, 6, 8]].astype(int)\n",
        "    model_output = clf.predict(model_input)\n",
        "    if min_dist_words[model_output.argmax()] == correct_word:\n",
        "      print(\"the word \", correct_word, \"is correct!\")\n",
        "    else:\n",
        "      print(\"the word \", correct_word, \"is not correct!\")\n",
        "      print(\"we recommend you to use \"+ min_dist_words[model_output.argmax()]+ \" instead!\")\n",
        "      print(\"other words: \")\n",
        "      print(min_dist_words)\n",
        "    print(\"-\"*30)\n",
        "  return results, outputs\n"
      ],
      "metadata": {
        "id": "TXsrZChwBax0"
      },
      "execution_count": null,
      "outputs": []
    },
    {
      "cell_type": "code",
      "source": [
        "text = \"بسیاری از مباحث علوم غیرطبیعی با استفاده از فیزیک دنیای مادی ابل توجیه نیست و برای یادگیری باید به فلسفه های خاصی رجو کرد.\"\n",
        "text = normalize_input(text)\n",
        "mlp_evaluate(text, model)"
      ],
      "metadata": {
        "colab": {
          "base_uri": "https://localhost:8080/"
        },
        "id": "CKGJhJ5oKoio",
        "outputId": "d9cc801a-cb54-4ad2-f7dc-8f7667e9eed0"
      },
      "execution_count": null,
      "outputs": [
        {
          "output_type": "stream",
          "name": "stdout",
          "text": [
            "بسیاری از مباحث علوم غیرطبیعی با استفاده از فیزیک دنیای مادی ابل توجیه نیست و برای یادگیری باید به فلسفه های خاصی رجو کرد .\n",
            "the word  بسیاری is correct!\n",
            "------------------------------\n",
            "بسیاری از مباحث علوم غیرطبیعی با استفاده از فیزیک دنیای مادی ابل توجیه نیست و برای یادگیری باید به فلسفه های خاصی رجو کرد .\n",
            "the word  از is correct!\n",
            "------------------------------\n",
            "بسیاری از مباحث علوم غیرطبیعی با استفاده از فیزیک دنیای مادی ابل توجیه نیست و برای یادگیری باید به فلسفه های خاصی رجو کرد .\n",
            "the word  مباحث is correct!\n",
            "------------------------------\n",
            "بسیاری از مباحث علوم غیرطبیعی با استفاده از فیزیک دنیای مادی ابل توجیه نیست و برای یادگیری باید به فلسفه های خاصی رجو کرد .\n",
            "the word  علوم is correct!\n",
            "------------------------------\n",
            "بسیاری از مباحث علوم غیرطبیعی با استفاده از فیزیک دنیای مادی ابل توجیه نیست و برای یادگیری باید به فلسفه های خاصی رجو کرد .\n",
            "the word  غیرطبیعی is correct!\n",
            "------------------------------\n",
            "بسیاری از مباحث علوم غیرطبیعی با استفاده از فیزیک دنیای مادی ابل توجیه نیست و برای یادگیری باید به فلسفه های خاصی رجو کرد .\n",
            "the word  با is correct!\n",
            "------------------------------\n",
            "بسیاری از مباحث علوم غیرطبیعی با استفاده از فیزیک دنیای مادی ابل توجیه نیست و برای یادگیری باید به فلسفه های خاصی رجو کرد .\n",
            "the word  استفاده is correct!\n",
            "------------------------------\n",
            "بسیاری از مباحث علوم غیرطبیعی با استفاده از فیزیک دنیای مادی ابل توجیه نیست و برای یادگیری باید به فلسفه های خاصی رجو کرد .\n",
            "the word  از is correct!\n",
            "------------------------------\n",
            "بسیاری از مباحث علوم غیرطبیعی با استفاده از فیزیک دنیای مادی ابل توجیه نیست و برای یادگیری باید به فلسفه های خاصی رجو کرد .\n",
            "the word  فیزیک is correct!\n",
            "------------------------------\n",
            "بسیاری از مباحث علوم غیرطبیعی با استفاده از فیزیک دنیای مادی ابل توجیه نیست و برای یادگیری باید به فلسفه های خاصی رجو کرد .\n",
            "the word  دنیای is correct!\n",
            "------------------------------\n",
            "بسیاری از مباحث علوم غیرطبیعی با استفاده از فیزیک دنیای مادی ابل توجیه نیست و برای یادگیری باید به فلسفه های خاصی رجو کرد .\n",
            "the word  مادی is correct!\n",
            "------------------------------\n",
            "بسیاری از مباحث علوم غیرطبیعی با استفاده از فیزیک دنیای مادی ابل توجیه نیست و برای یادگیری باید به فلسفه های خاصی رجو کرد .\n",
            "the word  ابل is not correct!\n",
            "we recommend you to use قابل instead!\n",
            "other words: \n",
            "['قابل' 'ابو' 'اب' 'ال' 'جبل']\n",
            "------------------------------\n",
            "بسیاری از مباحث علوم غیرطبیعی با استفاده از فیزیک دنیای مادی ابل توجیه نیست و برای یادگیری باید به فلسفه های خاصی رجو کرد .\n",
            "the word  توجیه is correct!\n",
            "------------------------------\n",
            "بسیاری از مباحث علوم غیرطبیعی با استفاده از فیزیک دنیای مادی ابل توجیه نیست و برای یادگیری باید به فلسفه های خاصی رجو کرد .\n",
            "the word  نیست is correct!\n",
            "------------------------------\n",
            "بسیاری از مباحث علوم غیرطبیعی با استفاده از فیزیک دنیای مادی ابل توجیه نیست و برای یادگیری باید به فلسفه های خاصی رجو کرد .\n",
            "the word  و is correct!\n",
            "------------------------------\n",
            "بسیاری از مباحث علوم غیرطبیعی با استفاده از فیزیک دنیای مادی ابل توجیه نیست و برای یادگیری باید به فلسفه های خاصی رجو کرد .\n",
            "the word  برای is correct!\n",
            "------------------------------\n",
            "بسیاری از مباحث علوم غیرطبیعی با استفاده از فیزیک دنیای مادی ابل توجیه نیست و برای یادگیری باید به فلسفه های خاصی رجو کرد .\n",
            "the word  یادگیری is correct!\n",
            "------------------------------\n",
            "بسیاری از مباحث علوم غیرطبیعی با استفاده از فیزیک دنیای مادی ابل توجیه نیست و برای یادگیری باید به فلسفه های خاصی رجو کرد .\n",
            "the word  باید is correct!\n",
            "------------------------------\n",
            "بسیاری از مباحث علوم غیرطبیعی با استفاده از فیزیک دنیای مادی ابل توجیه نیست و برای یادگیری باید به فلسفه های خاصی رجو کرد .\n",
            "the word  به is correct!\n",
            "------------------------------\n",
            "بسیاری از مباحث علوم غیرطبیعی با استفاده از فیزیک دنیای مادی ابل توجیه نیست و برای یادگیری باید به فلسفه های خاصی رجو کرد .\n",
            "the word  فلسفه is correct!\n",
            "------------------------------\n",
            "بسیاری از مباحث علوم غیرطبیعی با استفاده از فیزیک دنیای مادی ابل توجیه نیست و برای یادگیری باید به فلسفه های خاصی رجو کرد .\n",
            "the word  های is correct!\n",
            "------------------------------\n",
            "بسیاری از مباحث علوم غیرطبیعی با استفاده از فیزیک دنیای مادی ابل توجیه نیست و برای یادگیری باید به فلسفه های خاصی رجو کرد .\n",
            "the word  خاصی is correct!\n",
            "------------------------------\n",
            "بسیاری از مباحث علوم غیرطبیعی با استفاده از فیزیک دنیای مادی ابل توجیه نیست و برای یادگیری باید به فلسفه های خاصی رجو کرد .\n",
            "the word  رجو is not correct!\n",
            "we recommend you to use رجوع instead!\n",
            "other words: \n",
            "['رجوع' 'رو' 'وجو' 'روش' 'رحم']\n",
            "------------------------------\n",
            "بسیاری از مباحث علوم غیرطبیعی با استفاده از فیزیک دنیای مادی ابل توجیه نیست و برای یادگیری باید به فلسفه های خاصی رجو کرد .\n",
            "the word  کرد is correct!\n",
            "------------------------------\n",
            "بسیاری از مباحث علوم غیرطبیعی با استفاده از فیزیک دنیای مادی ابل توجیه نیست و برای یادگیری باید به فلسفه های خاصی رجو کرد .\n",
            "the word  . is correct!\n",
            "------------------------------\n"
          ]
        },
        {
          "output_type": "execute_result",
          "data": {
            "text/plain": [
              "([], [])"
            ]
          },
          "metadata": {},
          "execution_count": 169
        }
      ]
    },
    {
      "cell_type": "code",
      "source": [
        "from sklearn.metrics import confusion_matrix, plot_confusion_matrix\n",
        "import seaborn as sns\n",
        "conf_mat = confusion_matrix(clf.predict(X_test).argmax(axis = 1), y_test.argmax(axis=1))\n",
        "ax = sns.heatmap(conf_mat, annot=True)"
      ],
      "metadata": {
        "colab": {
          "base_uri": "https://localhost:8080/",
          "height": 265
        },
        "id": "IzSLwxgmGzp4",
        "outputId": "2afaf8b8-fe64-42c0-8796-4c9f2b517443"
      },
      "execution_count": null,
      "outputs": [
        {
          "output_type": "display_data",
          "data": {
            "text/plain": [
              "<Figure size 432x288 with 2 Axes>"
            ],
            "image/png": "[encoded data removed]"
          },
          "metadata": {
            "needs_background": "light"
          }
        }
      ]
    },
    {
      "cell_type": "markdown",
      "source": [
        "The high numbers in the diagonal part of the confusion matrix shows that our model is trained properly. These results have been acquired using test set!\n"
      ],
      "metadata": {
        "id": "YZfk3PtAlvRD"
      }
    }
  ]
}